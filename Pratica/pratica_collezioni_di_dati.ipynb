{
 "cells": [
  {
   "cell_type": "markdown",
   "metadata": {},
   "source": [
    "# Collezioni in python\n",
    "\n",
    "### Liste\n",
    "Contengono dati che possono cambiare - mutabile - possono contenere anche dati di tipo diversi in una stessa lista\n",
    "\n",
    "### Tuple\n",
    "Contengono dati che non possono cambiare - immutabili\n",
    "\n",
    "### Set\n",
    "Contengono dati unici non ordinati (ordinati secondo una funzione di hashing, quindi non lo decidiamo noi ma è python ad ordinare in autonomia)\n",
    "\n",
    "### Dizionari\n",
    "Contengono dati in formato chiave-valore"
   ]
  },
  {
   "cell_type": "code",
   "execution_count": 2,
   "metadata": {},
   "outputs": [],
   "source": [
    "lista = [100, 200, 300] # una lista è racchiusa tra parentesi quadre\n",
    "\n",
    "tupla = (100, 200, 300) # una tupla è racchiusa tra parentesi tonde\n",
    "\n",
    "set = {100, 200, 300} # un set è racchiuso tra parentesi graffe\n",
    "\n",
    "dizionario = {\"Riccardo\":100, \"Giovanni\":200, \"Francesco\":300} # un dizionario è racchiuso tra parentesi graffe ed ogni coppia di chiave:valore è diviso dai :"
   ]
  },
  {
   "cell_type": "markdown",
   "metadata": {},
   "source": [
    "## Index"
   ]
  },
  {
   "cell_type": "code",
   "execution_count": 5,
   "metadata": {},
   "outputs": [
    {
     "data": {
      "text/plain": [
       "100"
      ]
     },
     "execution_count": 5,
     "metadata": {},
     "output_type": "execute_result"
    }
   ],
   "source": [
    "lista[0] # possiamo accedere a un determinato elemento della lista racchiudendolo tra quadre dopo il nome della lista"
   ]
  },
  {
   "cell_type": "code",
   "execution_count": 6,
   "metadata": {},
   "outputs": [
    {
     "data": {
      "text/plain": [
       "300"
      ]
     },
     "execution_count": 6,
     "metadata": {},
     "output_type": "execute_result"
    }
   ],
   "source": [
    "lista[-1] # possiamo anche accedere ai valori partendo dalla fine della lista con valore -1"
   ]
  },
  {
   "cell_type": "markdown",
   "metadata": {},
   "source": [
    "## Slicing"
   ]
  },
  {
   "cell_type": "code",
   "execution_count": null,
   "metadata": {},
   "outputs": [
    {
     "data": {
      "text/plain": [
       "[100, 200]"
      ]
     },
     "execution_count": 9,
     "metadata": {},
     "output_type": "execute_result"
    }
   ],
   "source": [
    "lista[0:2] # possiamo anche prendere una porzione di elementi della lista con lo slicing, indicando tra le quadre la posizione del valore di partenza e quello di fine +1 diviso dai :"
   ]
  },
  {
   "cell_type": "code",
   "execution_count": 10,
   "metadata": {},
   "outputs": [
    {
     "data": {
      "text/plain": [
       "[100, 200]"
      ]
     },
     "execution_count": 10,
     "metadata": {},
     "output_type": "execute_result"
    }
   ],
   "source": [
    "lista[:2] #se partiamo dall'inizio della lista (o dalla fine) possiamo anche omettere il limite esterno e indicare solo quello da cui vogliamo partire/arrivare"
   ]
  },
  {
   "cell_type": "code",
   "execution_count": 11,
   "metadata": {},
   "outputs": [
    {
     "data": {
      "text/plain": [
       "[200, 300]"
      ]
     },
     "execution_count": 11,
     "metadata": {},
     "output_type": "execute_result"
    }
   ],
   "source": [
    "lista[-2:]"
   ]
  },
  {
   "cell_type": "code",
   "execution_count": 12,
   "metadata": {},
   "outputs": [
    {
     "data": {
      "text/plain": [
       "[200, 300]"
      ]
     },
     "execution_count": 12,
     "metadata": {},
     "output_type": "execute_result"
    }
   ],
   "source": [
    "lista[1:]"
   ]
  },
  {
   "cell_type": "code",
   "execution_count": 13,
   "metadata": {},
   "outputs": [
    {
     "data": {
      "text/plain": [
       "[100, 200, 300]"
      ]
     },
     "execution_count": 13,
     "metadata": {},
     "output_type": "execute_result"
    }
   ],
   "source": [
    "lista [::1] # se aggiungiamo un altro parametro allo slicing indichiamo l'ordine con cui accedere alla lista, in questo caso con valore positivo sarà normalmente da sx a dx"
   ]
  },
  {
   "cell_type": "code",
   "execution_count": 14,
   "metadata": {},
   "outputs": [
    {
     "data": {
      "text/plain": [
       "[300, 200, 100]"
      ]
     },
     "execution_count": 14,
     "metadata": {},
     "output_type": "execute_result"
    }
   ],
   "source": [
    "lista[::-1] # con valore negativo la lista verrà ripercorsa al contrario, partendo dalla fine"
   ]
  },
  {
   "cell_type": "markdown",
   "metadata": {},
   "source": [
    "## Modifica e verifica"
   ]
  },
  {
   "cell_type": "code",
   "execution_count": 15,
   "metadata": {},
   "outputs": [
    {
     "data": {
      "text/plain": [
       "[1, 2, 3, 5, 8, 13]"
      ]
     },
     "execution_count": 15,
     "metadata": {},
     "output_type": "execute_result"
    }
   ],
   "source": [
    "lista = [1, 2, 3, 5, 8, 13]\n",
    "lista"
   ]
  },
  {
   "cell_type": "code",
   "execution_count": 16,
   "metadata": {},
   "outputs": [
    {
     "data": {
      "text/plain": [
       "[1, 2, 3, 10, 8, 13]"
      ]
     },
     "execution_count": 16,
     "metadata": {},
     "output_type": "execute_result"
    }
   ],
   "source": [
    "lista[3] = 10 # in questo modo possiamo modiifcare il valore in posizione 4 (cioè il valore 5) con un 10\n",
    "lista"
   ]
  },
  {
   "cell_type": "code",
   "execution_count": 18,
   "metadata": {},
   "outputs": [
    {
     "data": {
      "text/plain": [
       "[90, 100, 3, 10, 8, 13]"
      ]
     },
     "execution_count": 18,
     "metadata": {},
     "output_type": "execute_result"
    }
   ],
   "source": [
    "lista[:2] = [90, 100] # possiamo utilizzare lo slicing anche per modificare una serie di valori che comunque dovranno essere dichiarati all'interno di una lista a loro volta. RICORDA che lo slicing si ferma alla posizione precedente di quella indicata (:2 prenderà solo i valori in posizione 0 e 1)\n",
    "lista"
   ]
  },
  {
   "cell_type": "code",
   "execution_count": null,
   "metadata": {},
   "outputs": [
    {
     "data": {
      "text/plain": [
       "['Riccardo', 'Giuseppe', 'Giovanni', 'Francesco']"
      ]
     },
     "execution_count": 20,
     "metadata": {},
     "output_type": "execute_result"
    }
   ],
   "source": [
    "nomi = [\"Riccardo\", \"Giuseppe\", \"Giovanni\"]\n",
    "nomi.append(\"Francesco\") # per aggiungere un valore alla lista usiamo la funzione .append scrivendo tra le parentesi tonde il nuovo/i valore/i (append perchè lo aggiunge in coda alla lista)\n",
    "nomi"
   ]
  },
  {
   "cell_type": "code",
   "execution_count": 21,
   "metadata": {},
   "outputs": [
    {
     "data": {
      "text/plain": [
       "['Riccardo', 'Giuseppe', 'Marta', 'Giovanni', 'Francesco']"
      ]
     },
     "execution_count": 21,
     "metadata": {},
     "output_type": "execute_result"
    }
   ],
   "source": [
    "nomi.insert(2, \"Marta\") #per inserire invece un nuovo valore in una posizione specifica usiamo la funzione .insert che ha bisongo di due parametri: il primo la posizione in cui inserire il valore e di conseguenza il valore stesso\n",
    "nomi"
   ]
  },
  {
   "cell_type": "code",
   "execution_count": 22,
   "metadata": {},
   "outputs": [
    {
     "data": {
      "text/plain": [
       "['Riccardo', 'Marta', 'Giovanni', 'Francesco']"
      ]
     },
     "execution_count": 22,
     "metadata": {},
     "output_type": "execute_result"
    }
   ],
   "source": [
    "nomi.remove(\"Giuseppe\") # per eliminare un valore specifico possiamo utilizzare la funzione .remove specificando esattamente il valore da eliminare\n",
    "nomi"
   ]
  },
  {
   "cell_type": "code",
   "execution_count": 23,
   "metadata": {},
   "outputs": [
    {
     "name": "stdout",
     "output_type": "stream",
     "text": [
      "Riccardo ['Marta', 'Giovanni', 'Francesco']\n"
     ]
    }
   ],
   "source": [
    "nome_estratto = nomi.pop(0) # se invece vogliamo estrarre un valore (che comunque viene eliminato dalla lista) possiamo usare la funzione .pop indicando tra parentesi l'indice del valore. in questo caso possiamo salvare il valore in una variabile, ecco perchè ESTRARRE\n",
    "print(nome_estratto, nomi)"
   ]
  },
  {
   "cell_type": "markdown",
   "metadata": {},
   "source": [
    "## Verifica"
   ]
  },
  {
   "cell_type": "code",
   "execution_count": 24,
   "metadata": {},
   "outputs": [
    {
     "data": {
      "text/plain": [
       "True"
      ]
     },
     "execution_count": 24,
     "metadata": {},
     "output_type": "execute_result"
    }
   ],
   "source": [
    "\"Marta\" in nomi # possiamo controllare se un valore specifico è contenuto dentro una lista dichiarando il valore IN e nome della lista"
   ]
  },
  {
   "cell_type": "code",
   "execution_count": 25,
   "metadata": {},
   "outputs": [
    {
     "data": {
      "text/plain": [
       "False"
      ]
     },
     "execution_count": 25,
     "metadata": {},
     "output_type": "execute_result"
    }
   ],
   "source": [
    "\"Riccardo\" in nomi"
   ]
  },
  {
   "cell_type": "code",
   "execution_count": 26,
   "metadata": {},
   "outputs": [
    {
     "data": {
      "text/plain": [
       "1"
      ]
     },
     "execution_count": 26,
     "metadata": {},
     "output_type": "execute_result"
    }
   ],
   "source": [
    "nomi.index(\"Giovanni\") # con .index avremo come risultato la posizione del valoe che stiamo ricercando"
   ]
  },
  {
   "cell_type": "code",
   "execution_count": 27,
   "metadata": {},
   "outputs": [
    {
     "data": {
      "text/plain": [
       "2"
      ]
     },
     "execution_count": 27,
     "metadata": {},
     "output_type": "execute_result"
    }
   ],
   "source": [
    "nomi.append(\"Giovanni\")\n",
    "nomi.count(\"Giovanni\") # se vogliamo sapere quante volte un valore è presente nella lista dobbiamo usare .count "
   ]
  },
  {
   "cell_type": "markdown",
   "metadata": {},
   "source": [
    "## Liste annidate"
   ]
  },
  {
   "cell_type": "code",
   "execution_count": 28,
   "metadata": {},
   "outputs": [],
   "source": [
    "#una lista può contenere qualsiasi tipo di dato, quindi anche delle liste\n",
    "nomi = []"
   ]
  },
  {
   "cell_type": "code",
   "execution_count": 31,
   "metadata": {},
   "outputs": [],
   "source": [
    "nomi = [\n",
    "    [\"Riccardo\", \"Giovanni\", \"Luca\"],\n",
    "    [\"Marta\", \"Chiara\", \"Elena\"],\n",
    "    [\"Prio\", \"Banana\", \"Il divo\"]\n",
    "]"
   ]
  },
  {
   "cell_type": "code",
   "execution_count": 32,
   "metadata": {},
   "outputs": [
    {
     "data": {
      "text/plain": [
       "[['Riccardo', 'Giovanni', 'Luca'],\n",
       " ['Marta', 'Chiara', 'Elena'],\n",
       " ['Prio', 'Banana', 'Il divo']]"
      ]
     },
     "execution_count": 32,
     "metadata": {},
     "output_type": "execute_result"
    }
   ],
   "source": [
    "nomi"
   ]
  },
  {
   "cell_type": "code",
   "execution_count": 34,
   "metadata": {},
   "outputs": [
    {
     "data": {
      "text/plain": [
       "['Prio', 'Banana', 'Il divo']"
      ]
     },
     "execution_count": 34,
     "metadata": {},
     "output_type": "execute_result"
    }
   ],
   "source": [
    "nomi[2] #possiamo sempre usare l'index per accedere al valore in una determinata posizione, in questo caso ritornerà comunque una lista"
   ]
  },
  {
   "cell_type": "code",
   "execution_count": 35,
   "metadata": {},
   "outputs": [
    {
     "data": {
      "text/plain": [
       "'Il divo'"
      ]
     },
     "execution_count": 35,
     "metadata": {},
     "output_type": "execute_result"
    }
   ],
   "source": [
    "nomi[2][-1] # per trovare un elemento preciso della lista annidata basta utilizzare un doppio index (cerchiamo il divo)"
   ]
  },
  {
   "cell_type": "markdown",
   "metadata": {},
   "source": [
    "## Tuple"
   ]
  },
  {
   "cell_type": "code",
   "execution_count": 36,
   "metadata": {},
   "outputs": [
    {
     "data": {
      "text/plain": [
       "(1, 2, 3, 5, 8)"
      ]
     },
     "execution_count": 36,
     "metadata": {},
     "output_type": "execute_result"
    }
   ],
   "source": [
    "tupla = (1, 2, 3, 5, 8)\n",
    "tupla"
   ]
  },
  {
   "cell_type": "code",
   "execution_count": 37,
   "metadata": {},
   "outputs": [
    {
     "data": {
      "text/plain": [
       "3"
      ]
     },
     "execution_count": 37,
     "metadata": {},
     "output_type": "execute_result"
    }
   ],
   "source": [
    "tupla[2] #possiamo usare l'index anche nelle tuple"
   ]
  },
  {
   "cell_type": "code",
   "execution_count": 38,
   "metadata": {},
   "outputs": [
    {
     "data": {
      "text/plain": [
       "(1, 2, 3)"
      ]
     },
     "execution_count": 38,
     "metadata": {},
     "output_type": "execute_result"
    }
   ],
   "source": [
    "tupla[:3]"
   ]
  },
  {
   "cell_type": "markdown",
   "metadata": {},
   "source": [
    "Non si possono però assegnare nuovi valori alla tupla essendo immutabile"
   ]
  },
  {
   "cell_type": "markdown",
   "metadata": {},
   "source": [
    "E' best practice quando vogliamo avere una serie di valori di tipo diverso usare una tupla"
   ]
  },
  {
   "cell_type": "code",
   "execution_count": 40,
   "metadata": {},
   "outputs": [
    {
     "data": {
      "text/plain": [
       "('Riccardo', 30, True)"
      ]
     },
     "execution_count": 40,
     "metadata": {},
     "output_type": "execute_result"
    }
   ],
   "source": [
    "anagrafica = (\"Riccardo\", 30, True)\n",
    "anagrafica"
   ]
  },
  {
   "cell_type": "code",
   "execution_count": 41,
   "metadata": {},
   "outputs": [
    {
     "data": {
      "text/plain": [
       "(('Riccardo', 31, True), ('Marta', 26, False))"
      ]
     },
     "execution_count": 41,
     "metadata": {},
     "output_type": "execute_result"
    }
   ],
   "source": [
    "tupla_multipla = (\n",
    "    (\"Riccardo\", 31, True),\n",
    "    (\"Marta\", 26, False)\n",
    ")\n",
    "tupla_multipla"
   ]
  },
  {
   "cell_type": "code",
   "execution_count": 42,
   "metadata": {},
   "outputs": [
    {
     "data": {
      "text/plain": [
       "('Riccardo', 31, True)"
      ]
     },
     "execution_count": 42,
     "metadata": {},
     "output_type": "execute_result"
    }
   ],
   "source": [
    "tupla_multipla[0]"
   ]
  },
  {
   "cell_type": "code",
   "execution_count": 43,
   "metadata": {},
   "outputs": [
    {
     "data": {
      "text/plain": [
       "31"
      ]
     },
     "execution_count": 43,
     "metadata": {},
     "output_type": "execute_result"
    }
   ],
   "source": [
    "tupla_multipla[0][1]"
   ]
  },
  {
   "cell_type": "code",
   "execution_count": 44,
   "metadata": {},
   "outputs": [
    {
     "data": {
      "text/plain": [
       "1"
      ]
     },
     "execution_count": 44,
     "metadata": {},
     "output_type": "execute_result"
    }
   ],
   "source": [
    "tupla.count(8) # non possiamo usare funzioni di modifica (append - inserti - remove - pop) essendo la tupla immutabile, però possiamo iterarla come la lista e contare quante volte è presente un valore, per esempio"
   ]
  },
  {
   "cell_type": "code",
   "execution_count": 45,
   "metadata": {},
   "outputs": [
    {
     "data": {
      "text/plain": [
       "3"
      ]
     },
     "execution_count": 45,
     "metadata": {},
     "output_type": "execute_result"
    }
   ],
   "source": [
    "tupla.index(5)"
   ]
  },
  {
   "cell_type": "code",
   "execution_count": 46,
   "metadata": {},
   "outputs": [
    {
     "data": {
      "text/plain": [
       "True"
      ]
     },
     "execution_count": 46,
     "metadata": {},
     "output_type": "execute_result"
    }
   ],
   "source": [
    "3 in tupla"
   ]
  },
  {
   "cell_type": "code",
   "execution_count": 47,
   "metadata": {},
   "outputs": [
    {
     "data": {
      "text/plain": [
       "False"
      ]
     },
     "execution_count": 47,
     "metadata": {},
     "output_type": "execute_result"
    }
   ],
   "source": [
    "4 in tupla"
   ]
  },
  {
   "cell_type": "markdown",
   "metadata": {},
   "source": [
    "## Stringhe come le tuple"
   ]
  },
  {
   "cell_type": "markdown",
   "metadata": {},
   "source": [
    "Le stringhe si comportano praticamente come le tuple, sono anch'esse immutabili ma iterabili"
   ]
  },
  {
   "cell_type": "code",
   "execution_count": 48,
   "metadata": {},
   "outputs": [
    {
     "data": {
      "text/plain": [
       "'c'"
      ]
     },
     "execution_count": 48,
     "metadata": {},
     "output_type": "execute_result"
    }
   ],
   "source": [
    "stringa = \"Riccardo\"\n",
    "stringa[3]"
   ]
  },
  {
   "cell_type": "code",
   "execution_count": 49,
   "metadata": {},
   "outputs": [
    {
     "data": {
      "text/plain": [
       "2"
      ]
     },
     "execution_count": 49,
     "metadata": {},
     "output_type": "execute_result"
    }
   ],
   "source": [
    "stringa.count(\"c\")"
   ]
  },
  {
   "cell_type": "code",
   "execution_count": 50,
   "metadata": {},
   "outputs": [
    {
     "data": {
      "text/plain": [
       "True"
      ]
     },
     "execution_count": 50,
     "metadata": {},
     "output_type": "execute_result"
    }
   ],
   "source": [
    "\"o\" in stringa"
   ]
  },
  {
   "cell_type": "markdown",
   "metadata": {},
   "source": [
    "## Set"
   ]
  },
  {
   "cell_type": "markdown",
   "metadata": {},
   "source": [
    "Contiene elementi unici e non ordinati"
   ]
  },
  {
   "cell_type": "code",
   "execution_count": 2,
   "metadata": {},
   "outputs": [
    {
     "data": {
      "text/plain": [
       "{10, 15, 20, 25, 30, 35, 40, 50}"
      ]
     },
     "execution_count": 2,
     "metadata": {},
     "output_type": "execute_result"
    }
   ],
   "source": [
    "set = {10, 10, 20, 30, 30, 40, 50, 25, 35, 15}\n",
    "set # nota bene che i duplicati vengono eliminati e l'ordine cambiato (hashing dal più piccolo al più grande)\n"
   ]
  },
  {
   "cell_type": "markdown",
   "metadata": {},
   "source": [
    "Non possiamo usare l'index in un set perchè semplicemente non esiste una indicizzazione"
   ]
  },
  {
   "cell_type": "markdown",
   "metadata": {},
   "source": [
    "Possiamo però utilizzare pop o in"
   ]
  },
  {
   "cell_type": "code",
   "execution_count": null,
   "metadata": {},
   "outputs": [
    {
     "data": {
      "text/plain": [
       "10"
      ]
     },
     "execution_count": 6,
     "metadata": {},
     "output_type": "execute_result"
    }
   ],
   "source": [
    "numero = set.pop() #in questo caso pop non ha bisogno del parametro come nelle liste (sarebbe difatti da specificare l'indice) - viene dunque estratto un valore a caso (a caso per noi) - ergo ha poco senso. viene comunque eliminato dal set\n",
    "numero"
   ]
  },
  {
   "cell_type": "code",
   "execution_count": 7,
   "metadata": {},
   "outputs": [],
   "source": [
    "set.add(33) # possiamo però aggiungere un valore specifico al set"
   ]
  },
  {
   "cell_type": "code",
   "execution_count": 8,
   "metadata": {},
   "outputs": [
    {
     "data": {
      "text/plain": [
       "{15, 20, 25, 30, 33, 50}"
      ]
     },
     "execution_count": 8,
     "metadata": {},
     "output_type": "execute_result"
    }
   ],
   "source": [
    "set"
   ]
  },
  {
   "cell_type": "code",
   "execution_count": 9,
   "metadata": {},
   "outputs": [],
   "source": [
    "set.remove(33) #possiamo però eliminare un determinato valore con la funzione .remove che non richiede un indice ma un valore preciso"
   ]
  },
  {
   "cell_type": "code",
   "execution_count": 10,
   "metadata": {},
   "outputs": [
    {
     "data": {
      "text/plain": [
       "{15, 20, 25, 30, 50}"
      ]
     },
     "execution_count": 10,
     "metadata": {},
     "output_type": "execute_result"
    }
   ],
   "source": [
    "set"
   ]
  },
  {
   "cell_type": "markdown",
   "metadata": {},
   "source": [
    "Per provare ad eliminare un valore da un set di cui non siamo sicuri sia presente al suo interno usiamo la funzione .discard"
   ]
  },
  {
   "cell_type": "code",
   "execution_count": 11,
   "metadata": {},
   "outputs": [],
   "source": [
    "set.discard(99) # nel caso non sia presente il valore non otterremo una eccezione (errore) ma semplicemente non accadrà nulla. questo è molto importante da ricordare"
   ]
  },
  {
   "cell_type": "code",
   "execution_count": 12,
   "metadata": {},
   "outputs": [
    {
     "data": {
      "text/plain": [
       "set()"
      ]
     },
     "execution_count": 12,
     "metadata": {},
     "output_type": "execute_result"
    }
   ],
   "source": [
    "set.clear() # usando .clear puliremo l'intero set lasciandolo dunque vuoto\n",
    "set"
   ]
  },
  {
   "cell_type": "markdown",
   "metadata": {},
   "source": [
    "## Frozen set"
   ]
  },
  {
   "cell_type": "markdown",
   "metadata": {},
   "source": [
    "Esiste la versione immutabile dei set chiamato Frozen Set"
   ]
  },
  {
   "cell_type": "code",
   "execution_count": 14,
   "metadata": {},
   "outputs": [
    {
     "data": {
      "text/plain": [
       "frozenset"
      ]
     },
     "execution_count": 14,
     "metadata": {},
     "output_type": "execute_result"
    }
   ],
   "source": [
    "frozen = frozenset({\"a\", \"b\", \"c\"})\n",
    "type(frozen)"
   ]
  },
  {
   "cell_type": "markdown",
   "metadata": {},
   "source": [
    "# Dizionari"
   ]
  },
  {
   "cell_type": "code",
   "execution_count": 16,
   "metadata": {},
   "outputs": [
    {
     "data": {
      "text/plain": [
       "{'Italiano': 7, 'Inglese': 8, 'Matematica': 6, 'Storia': 5}"
      ]
     },
     "execution_count": 16,
     "metadata": {},
     "output_type": "execute_result"
    }
   ],
   "source": [
    "pagella = {\"Italiano\":7, \"Inglese\":8, \"Matematica\":6, \"Storia\":5}\n",
    "pagella"
   ]
  },
  {
   "cell_type": "markdown",
   "metadata": {},
   "source": [
    "Il dizionario è mutabile, invece che utilizzare l'indice utilizzeremo dunque la chiave"
   ]
  },
  {
   "cell_type": "code",
   "execution_count": 17,
   "metadata": {},
   "outputs": [
    {
     "data": {
      "text/plain": [
       "8"
      ]
     },
     "execution_count": 17,
     "metadata": {},
     "output_type": "execute_result"
    }
   ],
   "source": [
    "pagella[\"Inglese\"]"
   ]
  },
  {
   "cell_type": "code",
   "execution_count": 19,
   "metadata": {},
   "outputs": [
    {
     "data": {
      "text/plain": [
       "6"
      ]
     },
     "execution_count": 19,
     "metadata": {},
     "output_type": "execute_result"
    }
   ],
   "source": [
    "pagella[\"Italiano\"] = 6 # così modifichiamo il valore associato alla chiave \"Italiano\"\n",
    "pagella[\"Italiano\"]"
   ]
  },
  {
   "cell_type": "markdown",
   "metadata": {},
   "source": [
    "Possiamo anche aggiungere una coppia di chiave-valore che non esiste già all'interno della dict, semplicemente associando il valore alla chiave indicizzata"
   ]
  },
  {
   "cell_type": "code",
   "execution_count": 22,
   "metadata": {},
   "outputs": [
    {
     "data": {
      "text/plain": [
       "{'Italiano': 6, 'Inglese': 8, 'Matematica': 6, 'Storia': 5, 'Religione': 2}"
      ]
     },
     "execution_count": 22,
     "metadata": {},
     "output_type": "execute_result"
    }
   ],
   "source": [
    "pagella[\"Religione\"] = 2 # verrà aggiunta alla fine come se usassimo append\n",
    "pagella"
   ]
  },
  {
   "cell_type": "markdown",
   "metadata": {},
   "source": [
    "Un dizionario può essere composto a sua volta da altri dizionari"
   ]
  },
  {
   "cell_type": "code",
   "execution_count": null,
   "metadata": {},
   "outputs": [
    {
     "data": {
      "text/plain": [
       "{'Italiano': 6,\n",
       " 'Inglese': 8,\n",
       " 'Matematica': 6,\n",
       " 'Storia': 5,\n",
       " 'Religione': 2,\n",
       " 'Francese': {'grammatica': 5, 'letteratura': 9}}"
      ]
     },
     "execution_count": 23,
     "metadata": {},
     "output_type": "execute_result"
    }
   ],
   "source": [
    "pagella[\"Francese\"] = {\"grammatica\": 5, \"letteratura\": 9} # in questo caso il dizionario aggiunto è il valore della chiave \"Francese\"\n",
    "pagella"
   ]
  },
  {
   "cell_type": "code",
   "execution_count": 25,
   "metadata": {},
   "outputs": [
    {
     "data": {
      "text/plain": [
       "{'grammatica': 5, 'letteratura': 9}"
      ]
     },
     "execution_count": 25,
     "metadata": {},
     "output_type": "execute_result"
    }
   ],
   "source": [
    "pagella.pop(\"Francese\") # eliminiamo una chiave e il conseguente valore dalla dict"
   ]
  },
  {
   "cell_type": "code",
   "execution_count": 26,
   "metadata": {},
   "outputs": [
    {
     "data": {
      "text/plain": [
       "{'Italiano': 6, 'Inglese': 8, 'Matematica': 6, 'Storia': 5, 'Religione': 2}"
      ]
     },
     "execution_count": 26,
     "metadata": {},
     "output_type": "execute_result"
    }
   ],
   "source": [
    "pagella"
   ]
  },
  {
   "cell_type": "code",
   "execution_count": 27,
   "metadata": {},
   "outputs": [
    {
     "data": {
      "text/plain": [
       "dict_values([6, 8, 6, 5, 2])"
      ]
     },
     "execution_count": 27,
     "metadata": {},
     "output_type": "execute_result"
    }
   ],
   "source": [
    "pagella.values() #possiamo estrarre solo i valori invece che le chiavi da una dict e inserirla volendo dentro una lista"
   ]
  },
  {
   "cell_type": "code",
   "execution_count": 30,
   "metadata": {},
   "outputs": [
    {
     "data": {
      "text/plain": [
       "[6, 8, 6, 5, 2]"
      ]
     },
     "execution_count": 30,
     "metadata": {},
     "output_type": "execute_result"
    }
   ],
   "source": [
    "voti = list(pagella.values()) # ricordati di specificare il casting altrimenti col cazzo che lo fa\n",
    "voti"
   ]
  },
  {
   "cell_type": "code",
   "execution_count": null,
   "metadata": {},
   "outputs": [
    {
     "data": {
      "text/plain": [
       "dict_keys(['Italiano', 'Inglese', 'Matematica', 'Storia', 'Religione'])"
      ]
     },
     "execution_count": 31,
     "metadata": {},
     "output_type": "execute_result"
    }
   ],
   "source": [
    "pagella.keys() # possiamo ovviamente estrarre anche solo le chiavi"
   ]
  },
  {
   "cell_type": "code",
   "execution_count": 32,
   "metadata": {},
   "outputs": [
    {
     "data": {
      "text/plain": [
       "['Italiano', 'Inglese', 'Matematica', 'Storia', 'Religione']"
      ]
     },
     "execution_count": 32,
     "metadata": {},
     "output_type": "execute_result"
    }
   ],
   "source": [
    "materie = list(pagella.keys())\n",
    "materie"
   ]
  },
  {
   "cell_type": "markdown",
   "metadata": {},
   "source": [
    "## Lunghezza di una collezione"
   ]
  },
  {
   "cell_type": "code",
   "execution_count": 35,
   "metadata": {},
   "outputs": [
    {
     "data": {
      "text/plain": [
       "5"
      ]
     },
     "execution_count": 35,
     "metadata": {},
     "output_type": "execute_result"
    }
   ],
   "source": [
    "lista = [1, 3, 5, 7, 9]\n",
    "len(lista) # len restitusice il NUMERO di valori all'interno della lista"
   ]
  },
  {
   "cell_type": "code",
   "execution_count": 36,
   "metadata": {},
   "outputs": [
    {
     "data": {
      "text/plain": [
       "3"
      ]
     },
     "execution_count": 36,
     "metadata": {},
     "output_type": "execute_result"
    }
   ],
   "source": [
    "tupla = (\"Riccardo\", \"Marta\", 50)\n",
    "len(tupla) # funziona anche con le tuple"
   ]
  },
  {
   "cell_type": "code",
   "execution_count": 37,
   "metadata": {},
   "outputs": [
    {
     "data": {
      "text/plain": [
       "4"
      ]
     },
     "execution_count": 37,
     "metadata": {},
     "output_type": "execute_result"
    }
   ],
   "source": [
    "set = {\"Riccardo\", \"Marta\", \"Elena\", \"Berto\"}\n",
    "len(set) # funziona anche con i set"
   ]
  },
  {
   "cell_type": "code",
   "execution_count": 39,
   "metadata": {},
   "outputs": [
    {
     "data": {
      "text/plain": [
       "3"
      ]
     },
     "execution_count": 39,
     "metadata": {},
     "output_type": "execute_result"
    }
   ],
   "source": [
    "dizionario = {\"uova\":5, \"farina\":500, \"acqua\":1}\n",
    "len(dizionario) # funziona anche con i dizionari - resituirà il numero di coppie chiave-valore"
   ]
  },
  {
   "cell_type": "markdown",
   "metadata": {},
   "source": [
    "## Casting tra collezioni"
   ]
  },
  {
   "cell_type": "code",
   "execution_count": 1,
   "metadata": {},
   "outputs": [
    {
     "data": {
      "text/plain": [
       "list"
      ]
     },
     "execution_count": 1,
     "metadata": {},
     "output_type": "execute_result"
    }
   ],
   "source": [
    "lista_nomi = [\"Riccardo\", \"Marta\", \"Jimmy\", \"Emma\"]\n",
    "type(lista_nomi)"
   ]
  },
  {
   "cell_type": "code",
   "execution_count": 2,
   "metadata": {},
   "outputs": [
    {
     "name": "stdout",
     "output_type": "stream",
     "text": [
      "<class 'tuple'> ('Riccardo', 'Marta', 'Jimmy', 'Emma')\n"
     ]
    }
   ],
   "source": [
    "tupla_nomi = tuple(lista_nomi)\n",
    "print(type(tupla_nomi), tupla_nomi)"
   ]
  },
  {
   "cell_type": "code",
   "execution_count": 4,
   "metadata": {},
   "outputs": [
    {
     "name": "stdout",
     "output_type": "stream",
     "text": [
      "<class 'set'> {'Marta', 'Emma', 'Riccardo', 'Jimmy'}\n"
     ]
    }
   ],
   "source": [
    "set_nomi = set(tupla_nomi) # perderà dunque ordine e duplicati\n",
    "print(type(set_nomi), set_nomi)"
   ]
  },
  {
   "cell_type": "code",
   "execution_count": 5,
   "metadata": {},
   "outputs": [
    {
     "data": {
      "text/plain": [
       "(('Riccardo', 31), ('Jimmy', 32), ('Marta', 26))"
      ]
     },
     "execution_count": 5,
     "metadata": {},
     "output_type": "execute_result"
    }
   ],
   "source": [
    "#possiamo anche fare un casting da una tupla di tuple ad una dict\n",
    "nomi_eta = ((\"Riccardo\", 31), (\"Jimmy\", 32), (\"Marta\", 26))\n",
    "nomi_eta"
   ]
  },
  {
   "cell_type": "code",
   "execution_count": null,
   "metadata": {},
   "outputs": [
    {
     "name": "stdout",
     "output_type": "stream",
     "text": [
      "<class 'dict'> {'Riccardo': 31, 'Jimmy': 32, 'Marta': 26}\n"
     ]
    }
   ],
   "source": [
    "dizionario_nomi = dict(nomi_eta) # funziona solo con una tupla di tuple e con il formato corretto come il precedente (2 valori per tupla)\n",
    "print(type(dizionario_nomi), dizionario_nomi)"
   ]
  },
  {
   "cell_type": "markdown",
   "metadata": {},
   "source": [
    "Possiamo anche passare da due liste a una dict ma prima dobbiamo ricreare la forma tupla di tuple con la funzione zip()"
   ]
  },
  {
   "cell_type": "code",
   "execution_count": 7,
   "metadata": {},
   "outputs": [],
   "source": [
    "nomi = [\"Riccardo\", \"Jimmy\", \"Marta\"]\n",
    "anni = [31, 32, 26]"
   ]
  },
  {
   "cell_type": "code",
   "execution_count": 8,
   "metadata": {},
   "outputs": [
    {
     "data": {
      "text/plain": [
       "<zip at 0x1082844c0>"
      ]
     },
     "execution_count": 8,
     "metadata": {},
     "output_type": "execute_result"
    }
   ],
   "source": [
    "nomi_anni = zip(nomi, anni)\n",
    "nomi_anni # restituisce però un \"generatore\", per farlo diventare effettivamente una tupla di tuple dobbiamo usare il casting"
   ]
  },
  {
   "cell_type": "code",
   "execution_count": 10,
   "metadata": {},
   "outputs": [
    {
     "data": {
      "text/plain": [
       "(('Riccardo', 31), ('Jimmy', 32), ('Marta', 26))"
      ]
     },
     "execution_count": 10,
     "metadata": {},
     "output_type": "execute_result"
    }
   ],
   "source": [
    "nomi_anni = tuple(nomi_anni)\n",
    "nomi_anni"
   ]
  },
  {
   "cell_type": "code",
   "execution_count": 12,
   "metadata": {},
   "outputs": [
    {
     "data": {
      "text/plain": [
       "{'Riccardo': 31, 'Jimmy': 32, 'Marta': 26}"
      ]
     },
     "execution_count": 12,
     "metadata": {},
     "output_type": "execute_result"
    }
   ],
   "source": [
    "# possiamo quindi saltare questo step e castare direttamente lo zip in una dict\n",
    "dict_nomi_anni = dict(zip(nomi, anni))\n",
    "dict_nomi_anni"
   ]
  },
  {
   "cell_type": "markdown",
   "metadata": {},
   "source": [
    "## Copia vs Riferimento"
   ]
  },
  {
   "cell_type": "code",
   "execution_count": 13,
   "metadata": {},
   "outputs": [
    {
     "data": {
      "text/plain": [
       "['cane', 'tigre', 'topo']"
      ]
     },
     "execution_count": 13,
     "metadata": {},
     "output_type": "execute_result"
    }
   ],
   "source": [
    "lista1 = [\"cane\", \"gatto\", \"topo\"] #creo la prima lista\n",
    "lista2 = lista1 #creo una seconda lista uguale alla prima\n",
    "lista2[1] = \"tigre\" # \"modifico\" la seconda lista\n",
    "lista2"
   ]
  },
  {
   "cell_type": "code",
   "execution_count": null,
   "metadata": {},
   "outputs": [
    {
     "data": {
      "text/plain": [
       "['cane', 'tigre', 'topo']"
      ]
     },
     "execution_count": 14,
     "metadata": {},
     "output_type": "execute_result"
    }
   ],
   "source": [
    "lista1 # anche la prima lista si è modificata"
   ]
  },
  {
   "cell_type": "markdown",
   "metadata": {},
   "source": [
    "Il concetto è che quando definiamo una variabile con dei valori viene allocato uno spazio di memoria e dentro la variabile viene in verità inserito il puntatore di quella memoria allocata <br>\n",
    "Dunque se creiamo una seconda variabile definendola con una già esistente non gli stiamo di fatto copiando dentro i dati ma lo stesso puntatore di memoria <br>\n",
    "Se quindi modifichiamo una di quelle variabili anche l'altra ritornerà gli stessi valori modificati"
   ]
  },
  {
   "cell_type": "code",
   "execution_count": 15,
   "metadata": {},
   "outputs": [
    {
     "data": {
      "text/plain": [
       "4431837696"
      ]
     },
     "execution_count": 15,
     "metadata": {},
     "output_type": "execute_result"
    }
   ],
   "source": [
    "id(lista1)"
   ]
  },
  {
   "cell_type": "code",
   "execution_count": 16,
   "metadata": {},
   "outputs": [
    {
     "data": {
      "text/plain": [
       "4431837696"
      ]
     },
     "execution_count": 16,
     "metadata": {},
     "output_type": "execute_result"
    }
   ],
   "source": [
    "id(lista2)"
   ]
  },
  {
   "cell_type": "code",
   "execution_count": null,
   "metadata": {},
   "outputs": [
    {
     "name": "stdout",
     "output_type": "stream",
     "text": [
      "4431835648 4432016384\n"
     ]
    }
   ],
   "source": [
    "l1 = [\"cane\", \"gatto\", \"topo\"]\n",
    "l2 = [\"cane\", \"gatto\", \"topo\"] # in questo caso nonostante siano uguali python crea due diversi spazi di memoria, quindi due variabili distinte\n",
    "print(id(l1), id(l2))"
   ]
  },
  {
   "cell_type": "markdown",
   "metadata": {},
   "source": [
    "Per evitare di dover riscrivere le variabili uguali come sopra dobbiamo usare la funzione .copy"
   ]
  },
  {
   "cell_type": "code",
   "execution_count": 23,
   "metadata": {},
   "outputs": [],
   "source": [
    "lista1 = [\"cane\", \"gatto\", \"topo\"]\n",
    "lista2 = lista1.copy()"
   ]
  },
  {
   "cell_type": "code",
   "execution_count": 24,
   "metadata": {},
   "outputs": [
    {
     "name": "stdout",
     "output_type": "stream",
     "text": [
      "4432262464 4431653504\n"
     ]
    }
   ],
   "source": [
    "print(id(lista1), id(lista2))"
   ]
  },
  {
   "cell_type": "code",
   "execution_count": 25,
   "metadata": {},
   "outputs": [
    {
     "name": "stdout",
     "output_type": "stream",
     "text": [
      "['cane', 'gatto', 'topo'] ['cane', 'gatto', 'topo']\n"
     ]
    }
   ],
   "source": [
    "print(lista1, lista2)"
   ]
  },
  {
   "cell_type": "code",
   "execution_count": 26,
   "metadata": {},
   "outputs": [
    {
     "data": {
      "text/plain": [
       "['cane', 'tigre', 'topo']"
      ]
     },
     "execution_count": 26,
     "metadata": {},
     "output_type": "execute_result"
    }
   ],
   "source": [
    "lista1[1] = \"tigre\"\n",
    "lista1"
   ]
  },
  {
   "cell_type": "code",
   "execution_count": 27,
   "metadata": {},
   "outputs": [
    {
     "data": {
      "text/plain": [
       "['cane', 'gatto', 'topo']"
      ]
     },
     "execution_count": 27,
     "metadata": {},
     "output_type": "execute_result"
    }
   ],
   "source": [
    "lista2"
   ]
  }
 ],
 "metadata": {
  "kernelspec": {
   "display_name": ".venv",
   "language": "python",
   "name": "python3"
  },
  "language_info": {
   "codemirror_mode": {
    "name": "ipython",
    "version": 3
   },
   "file_extension": ".py",
   "mimetype": "text/x-python",
   "name": "python",
   "nbconvert_exporter": "python",
   "pygments_lexer": "ipython3",
   "version": "3.12.9"
  }
 },
 "nbformat": 4,
 "nbformat_minor": 2
}
