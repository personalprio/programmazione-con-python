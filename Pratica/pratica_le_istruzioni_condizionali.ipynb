{
 "cells": [
  {
   "cell_type": "markdown",
   "metadata": {},
   "source": [
    "Salto la parte delle ISTRUZIONI IF - ELIF - ELSE per ovvie ragioni\n",
    "<br>\n",
    "### Espressione IF"
   ]
  },
  {
   "cell_type": "code",
   "execution_count": 1,
   "metadata": {},
   "outputs": [
    {
     "name": "stdout",
     "output_type": "stream",
     "text": [
      "5 è dispari\n"
     ]
    }
   ],
   "source": [
    "#Una normale controllo condizionale su un numero inserito dall'utente pari/dispari può essere scritto così:\n",
    "n = int(input(\"Inserisci un numero: \"))\n",
    "\n",
    "if n % 2 == 0:\n",
    "    print(f\"{n} è pari\")\n",
    "else:\n",
    "    print(f\"{n} è dispari\")"
   ]
  },
  {
   "cell_type": "code",
   "execution_count": 2,
   "metadata": {},
   "outputs": [
    {
     "name": "stdout",
     "output_type": "stream",
     "text": [
      "3 è pari? False\n"
     ]
    }
   ],
   "source": [
    "#una espressione IF invece può essere scritta in questo modo\n",
    "n = int(input(\"Inserisci un numero: \"))\n",
    "\n",
    "is_even = True if n % 2 == 0 else False #nota bene che il risultato della condizione vera in questo caso viene inserito prima dell'if, proprio come in linguaggio naturale (vero se n è divisibile per 2 altrimenti falso)\n",
    "print(f\"{n} è pari? {is_even}\")\n"
   ]
  },
  {
   "cell_type": "code",
   "execution_count": 3,
   "metadata": {},
   "outputs": [
    {
     "name": "stdout",
     "output_type": "stream",
     "text": [
      "2 è pari\n"
     ]
    }
   ],
   "source": [
    "#possiamo dunque inserire l'espressione if all'interno di altre funzioni\n",
    "n = int(input(\"Inserisci un numero: \"))\n",
    "\n",
    "print(f\"{n} è\", \"pari\" if n % 2 == 0 else \"dispari\")"
   ]
  },
  {
   "cell_type": "code",
   "execution_count": null,
   "metadata": {},
   "outputs": [
    {
     "name": "stdout",
     "output_type": "stream",
     "text": [
      "2 è pari\n"
     ]
    }
   ],
   "source": [
    "#siccome python interpreta 1 come vero e 0 come false possiamo evitare di inserire l'espressione booleana all'interno dell'if. NB: in questo caso diventa probabilmente di più difficile comprensione, quindi meglio evitare\n",
    "n = int(input(\"Inserisci un numero: \"))\n",
    "print(f\"{n} è\", \"dispari\" if n % 2 else \"pari\")"
   ]
  }
 ],
 "metadata": {
  "kernelspec": {
   "display_name": ".venv",
   "language": "python",
   "name": "python3"
  },
  "language_info": {
   "codemirror_mode": {
    "name": "ipython",
    "version": 3
   },
   "file_extension": ".py",
   "mimetype": "text/x-python",
   "name": "python",
   "nbconvert_exporter": "python",
   "pygments_lexer": "ipython3",
   "version": "3.12.9"
  }
 },
 "nbformat": 4,
 "nbformat_minor": 2
}
