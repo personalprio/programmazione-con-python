{
 "cells": [
  {
   "cell_type": "markdown",
   "id": "ce124e3f",
   "metadata": {},
   "source": [
    "# Le Classi"
   ]
  },
  {
   "cell_type": "markdown",
   "id": "07a6e654",
   "metadata": {},
   "source": [
    "Le Classi sono dei blueprint per definire nuovi tipi di dato in base alle nostre esigenze. <br>\n",
    "Al loro interno esistono dei metodi (funzioni) e degli attributi (dati). Esistono metodi di default creati da python e saranno sempre chiamati con due underscore prima e dopo il nome del metodo stesso (__init__) (__str__). <br> \n",
    "Il metodo __init__ quando definito viene chiamato costruttore e sarà richiamato automaticamente de python quando invochiamo la classe (detta in parole povere è la funzione all'interno della classe che inizializza un nuovo oggetto).<br>\n",
    "Quindi:<br>\n",
    "* Una *classe* è un template che contiene le specifiche degli oggetti (tipo libro delle istruzioni di un mobile ikea), un set di istruzioni per creare un oggetto<br>\n",
    "* Un *oggetto* è ciò che possiamo creare utilizzando la classe. (tipo una libreria ikea vuota, costruita seguendo le istruzioni) <br>\n",
    "* Una *istanza* è ciò che abbiamo creato e che possiamo utilizzare. (la librearia piena ed arredata)."
   ]
  },
  {
   "cell_type": "code",
   "execution_count": 1,
   "id": "47aa5397",
   "metadata": {},
   "outputs": [],
   "source": [
    "#Esempio di una classe\n",
    "class Triangle:\n",
    "    def __init__(self, a, b, c, h): #costruttore, istruzione per creare un oggetto formato da attributi. quando invocheremo la classe verrà creato un nuovo oggetto con queste variabili (istance variables)\n",
    "        self.a = a\n",
    "        self.b = b\n",
    "        self.c = c\n",
    "        self.h = h\n",
    "    \n",
    "    #metodo di default in override per utilizzare la funzione print sul nostro oggetto creato    \n",
    "    def __str__(self):\n",
    "        return f\"Il Triangolo con lati {self.a}, {self.b}, {self.c} ha un perimetro di {self.perimeter()} e un'area di {self.area()}\"\n",
    "    #metodi della classe\n",
    "    def perimeter(self):\n",
    "        return self.a + self.b + self.c\n",
    "    \n",
    "    def area(self):\n",
    "        return self.b * self.h / 2"
   ]
  },
  {
   "cell_type": "code",
   "execution_count": 2,
   "id": "3f787685",
   "metadata": {},
   "outputs": [
    {
     "name": "stdout",
     "output_type": "stream",
     "text": [
      "Il Triangolo con lati 10, 12, 20 ha un perimetro di 42 e un'area di 60.0\n"
     ]
    }
   ],
   "source": [
    "a = 10\n",
    "b = 12\n",
    "c = 20\n",
    "h = 10\n",
    "\n",
    "#creiamo una nuova istanza\n",
    "triangle = Triangle(a, b, c, h)\n",
    "print(triangle)"
   ]
  },
  {
   "cell_type": "code",
   "execution_count": 3,
   "id": "cfcfd009",
   "metadata": {},
   "outputs": [],
   "source": [
    "#si possono inserire delle docstring per avere più chiarezza sulle funzionalità della nostra classe, se ne avrà evidenza richiamando la funziona built in help(). sono letteralmente dei commenti \"potenziati\"\n",
    "class Triangle:\n",
    "    def __init__(self, a, b, c, h): #costruttore, istruzione per creare un oggetto formato da attributi. quando invocheremo la classe verrà creato un nuovo oggetto con queste variabili (istance variables)\n",
    "        self.a = a\n",
    "        self.b = b\n",
    "        self.c = c\n",
    "        self.h = h\n",
    "    \n",
    "    #metodo di default in override per utilizzare la funzione print sul nostro oggetto creato    \n",
    "    def __str__(self):\n",
    "        \n",
    "        \"\"\"_summary_\n",
    "        Metodo per print\n",
    "        Returns:\n",
    "            string\n",
    "        \"\"\"\n",
    "        \n",
    "        return f\"Il Triangolo con lati {self.a}, {self.b}, {self.c} ha un perimetro di {self.perimeter()} e un'area di {self.area()}\"\n",
    "    \n",
    "    #metodi della classe\n",
    "    def perimeter(self):\n",
    "        \n",
    "        \"\"\"Calcolo del perimetro del triangolo\n",
    "\n",
    "        Returns:\n",
    "            _type_: int\n",
    "        \"\"\"\n",
    "        return self.a + self.b + self.c\n",
    "    \n",
    "    def area(self):\n",
    "        \n",
    "        \"\"\"Calcolo dell'area del triangolo\n",
    "\n",
    "        Returns:\n",
    "            _type_: float\n",
    "        \"\"\"\n",
    "        \n",
    "        return self.b * self.h / 2"
   ]
  },
  {
   "cell_type": "code",
   "execution_count": 4,
   "id": "53cd2209",
   "metadata": {},
   "outputs": [
    {
     "name": "stdout",
     "output_type": "stream",
     "text": [
      "Help on class Triangle in module __main__:\n",
      "\n",
      "class Triangle(builtins.object)\n",
      " |  Triangle(a, b, c, h)\n",
      " |\n",
      " |  Methods defined here:\n",
      " |\n",
      " |  __init__(self, a, b, c, h)\n",
      " |      Initialize self.  See help(type(self)) for accurate signature.\n",
      " |\n",
      " |  __str__(self)\n",
      " |      _summary_\n",
      " |      Metodo per print\n",
      " |      Returns:\n",
      " |          string\n",
      " |\n",
      " |  area(self)\n",
      " |      Calcolo dell'area del triangolo\n",
      " |\n",
      " |      Returns:\n",
      " |          _type_: float\n",
      " |\n",
      " |  perimeter(self)\n",
      " |      Calcolo del perimetro del triangolo\n",
      " |\n",
      " |      Returns:\n",
      " |          _type_: int\n",
      " |\n",
      " |  ----------------------------------------------------------------------\n",
      " |  Data descriptors defined here:\n",
      " |\n",
      " |  __dict__\n",
      " |      dictionary for instance variables\n",
      " |\n",
      " |  __weakref__\n",
      " |      list of weak references to the object\n",
      "\n"
     ]
    }
   ],
   "source": [
    "help(Triangle)"
   ]
  },
  {
   "cell_type": "markdown",
   "id": "19ac10ea",
   "metadata": {},
   "source": [
    "## Eredità e polimorfismo"
   ]
  },
  {
   "cell_type": "code",
   "execution_count": 5,
   "id": "764331ca",
   "metadata": {},
   "outputs": [],
   "source": [
    "#classe SUPERCLASS o Parent Class (meglio super come dice Malan)\n",
    "class Shape:\n",
    "    \"\"\"\n",
    "    Questa classe rppresenta una generica figura geometrica\n",
    "    \"\"\"\n",
    "    \n",
    "    def __init__(self, l):\n",
    "        \"\"\"\n",
    "        l (tupla): lati e altezza della figura\n",
    "        \"\"\"\n",
    "        self.l = l\n",
    "        \n",
    "    def __str__(self):\n",
    "        \"\"\"\n",
    "        Stampa del perimetro e area della figura\n",
    "        \"\"\"\n",
    "        return f\"Perimetro: {self.perimeter()}, Area: {self.area()}\"\n",
    "        \n",
    "    def perimeter(self):\n",
    "        \"\"\"\n",
    "        Calcolo del perimetro della figura\n",
    "        \"\"\"\n",
    "        ...\n",
    "        \n",
    "    def area(self):\n",
    "        \"\"\"\n",
    "        Calcolo dell'area della figura\n",
    "        \"\"\""
   ]
  },
  {
   "cell_type": "code",
   "execution_count": 6,
   "id": "7903997c",
   "metadata": {},
   "outputs": [],
   "source": [
    "#classe SUBCLASS o Child Class\n",
    "class Triangle(Shape):\n",
    "    #non inizializziamo niente perchè grazie alle proprietà dell'ereditarietà la subclass eredita queste dalla superclass\n",
    "    \n",
    "    #grazie alle proprietà di polimorfismo possiamo sovrascrivere i metodi della superclass\n",
    "    def perimeter(self):\n",
    "        return self.l[0] + self.l[1] + self.l[2]\n",
    "    \n",
    "    def area(self):\n",
    "        return self.l[1] * self.l[3] / 2"
   ]
  },
  {
   "cell_type": "code",
   "execution_count": null,
   "id": "39824e42",
   "metadata": {},
   "outputs": [],
   "source": []
  }
 ],
 "metadata": {
  "kernelspec": {
   "display_name": ".venv",
   "language": "python",
   "name": "python3"
  },
  "language_info": {
   "codemirror_mode": {
    "name": "ipython",
    "version": 3
   },
   "file_extension": ".py",
   "mimetype": "text/x-python",
   "name": "python",
   "nbconvert_exporter": "python",
   "pygments_lexer": "ipython3",
   "version": "3.12.9"
  }
 },
 "nbformat": 4,
 "nbformat_minor": 5
}
