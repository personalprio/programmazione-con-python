{
 "cells": [
  {
   "cell_type": "markdown",
   "id": "dceb8288",
   "metadata": {},
   "source": [
    "# Operare su file txt"
   ]
  },
  {
   "cell_type": "code",
   "execution_count": 2,
   "id": "ba11a30b",
   "metadata": {},
   "outputs": [],
   "source": [
    "proverbi = open(\"Files/proverbi.txt\")"
   ]
  },
  {
   "cell_type": "code",
   "execution_count": null,
   "id": "832d6f8e",
   "metadata": {},
   "outputs": [
    {
     "data": {
      "text/plain": [
       "'A buon intenditor, poche parole. \\nA caval donato non si guarda in bocca. \\nAnno nuovo, vita nuova. \\nBacco, Tabacco e Venere, riducon l’uomo in cenere. \\nBuon sangue non mente. \\nCampa cavallo che l’erba cresce. \\nCan che abbaia non morde. \\nChi ben comincia è alla metà dell’opera. \\nChi è causa del suo mal, pianga se stesso.\\nChi la dura, la vince. \\nChiodo scaccia chiodo. \\nTanto la va la gatta al lardo che ci lascia lo zampino. '"
      ]
     },
     "execution_count": 4,
     "metadata": {},
     "output_type": "execute_result"
    }
   ],
   "source": [
    "proverbi.read() #read stampa tutto il file"
   ]
  },
  {
   "cell_type": "code",
   "execution_count": 7,
   "id": "b19ee5e3",
   "metadata": {},
   "outputs": [
    {
     "data": {
      "text/plain": [
       "'A buon intenditor, poche parole. \\nA caval donato non si guarda in bocca. \\nAnno nuovo, vita nuova. \\nBacco, Tabacco e Venere, riducon l’uomo in cenere. \\nBuon sangue non mente. \\nCampa cavallo che l’erba cresce. \\nCan che abbaia non morde. \\nChi ben comincia è alla metà dell’opera. \\nChi è causa del suo mal, pianga se stesso.\\nChi la dura, la vince. \\nChiodo scaccia chiodo. \\nTanto la va la gatta al lardo che ci lascia lo zampino. '"
      ]
     },
     "execution_count": 7,
     "metadata": {},
     "output_type": "execute_result"
    }
   ],
   "source": [
    "proverbi.read() # quando leggiamo il file un cursore scorre tutto il testo e stampa ogni carattere, viene dunque fissato alla fine dove aver letto il file la prima vola. per rileggerlo dobbiamo sposatare il cursore all'inizio\n",
    "proverbi.seek(0) # cosi ritorniamo al primo carattere del file\n",
    "proverbi.read()"
   ]
  },
  {
   "cell_type": "code",
   "execution_count": 8,
   "id": "c05296d8",
   "metadata": {},
   "outputs": [
    {
     "data": {
      "text/plain": [
       "['A buon intenditor, poche parole. \\n',\n",
       " 'A caval donato non si guarda in bocca. \\n',\n",
       " 'Anno nuovo, vita nuova. \\n',\n",
       " 'Bacco, Tabacco e Venere, riducon l’uomo in cenere. \\n',\n",
       " 'Buon sangue non mente. \\n',\n",
       " 'Campa cavallo che l’erba cresce. \\n',\n",
       " 'Can che abbaia non morde. \\n',\n",
       " 'Chi ben comincia è alla metà dell’opera. \\n',\n",
       " 'Chi è causa del suo mal, pianga se stesso.\\n',\n",
       " 'Chi la dura, la vince. \\n',\n",
       " 'Chiodo scaccia chiodo. \\n',\n",
       " 'Tanto la va la gatta al lardo che ci lascia lo zampino. ']"
      ]
     },
     "execution_count": 8,
     "metadata": {},
     "output_type": "execute_result"
    }
   ],
   "source": [
    "#essendo il file diviso in righe separate dal carattere \\n possiamo utilizzare la funzione readlines\n",
    "proverbi.seek(0)\n",
    "proverbi.readlines()"
   ]
  },
  {
   "cell_type": "code",
   "execution_count": 9,
   "id": "0a7f2b07",
   "metadata": {},
   "outputs": [
    {
     "name": "stdout",
     "output_type": "stream",
     "text": [
      "A buon intenditor, poche parole. \n",
      "\n",
      "A caval donato non si guarda in bocca. \n",
      "\n",
      "Anno nuovo, vita nuova. \n",
      "\n",
      "Bacco, Tabacco e Venere, riducon l’uomo in cenere. \n",
      "\n",
      "Buon sangue non mente. \n",
      "\n",
      "Campa cavallo che l’erba cresce. \n",
      "\n",
      "Can che abbaia non morde. \n",
      "\n",
      "Chi ben comincia è alla metà dell’opera. \n",
      "\n",
      "Chi è causa del suo mal, pianga se stesso.\n",
      "\n",
      "Chi la dura, la vince. \n",
      "\n",
      "Chiodo scaccia chiodo. \n",
      "\n",
      "Tanto la va la gatta al lardo che ci lascia lo zampino. \n"
     ]
    }
   ],
   "source": [
    "#possiamo dunque iterare sulle righe\n",
    "proverbi.seek(0)\n",
    "for line in proverbi.readlines():\n",
    "    print(line)"
   ]
  },
  {
   "cell_type": "code",
   "execution_count": 10,
   "id": "7b8696d0",
   "metadata": {},
   "outputs": [
    {
     "name": "stdout",
     "output_type": "stream",
     "text": [
      "A buon intenditor, poche parole. \n",
      "A caval donato non si guarda in bocca. \n",
      "Anno nuovo, vita nuova. \n",
      "Bacco, Tabacco e Venere, riducon l’uomo in cenere. \n",
      "Buon sangue non mente. \n",
      "Campa cavallo che l’erba cresce. \n",
      "Can che abbaia non morde. \n",
      "Chi ben comincia è alla metà dell’opera. \n",
      "Chi è causa del suo mal, pianga se stesso.\n",
      "Chi la dura, la vince. \n",
      "Chiodo scaccia chiodo. \n",
      "Tanto la va la gatta al lardo che ci lascia lo zampino. "
     ]
    }
   ],
   "source": [
    "#ovviamente il print ha un \\n intrinseco quindi possiamo fare cosi\n",
    "proverbi.seek(0)\n",
    "for line in proverbi.readlines():\n",
    "    print(line, end=\"\")"
   ]
  },
  {
   "cell_type": "code",
   "execution_count": 11,
   "id": "f7b55382",
   "metadata": {},
   "outputs": [],
   "source": [
    "#una volta terminato di utilizzare un file dobbiamo sempre chiuderlo per evitare problemi di memoria\n",
    "proverbi.close()"
   ]
  },
  {
   "cell_type": "code",
   "execution_count": 2,
   "id": "4f6790a4",
   "metadata": {},
   "outputs": [
    {
     "name": "stdout",
     "output_type": "stream",
     "text": [
      "A buon intenditor, poche parole. \n",
      "A caval donato non si guarda in bocca. \n",
      "Anno nuovo, vita nuova. \n",
      "Bacco, Tabacco e Venere, riducon l’uomo in cenere. \n",
      "Buon sangue non mente. \n",
      "Campa cavallo che l’erba cresce. \n",
      "Can che abbaia non morde. \n",
      "Chi ben comincia è alla metà dell’opera. \n",
      "Chi è causa del suo mal, pianga se stesso.\n",
      "Chi la dura, la vince. \n",
      "Chiodo scaccia chiodo. \n",
      "Tanto la va la gatta al lardo che ci lascia lo zampino. \n"
     ]
    }
   ],
   "source": [
    "#per evitare di ricordarsi di aprire e chiudere il file in python possiamo usare la keyword with che crea un CONTESTO all'interno del quale possiamo fare delle operazioni e che verrà chiuso in automatico una volta terminate tutte le istruzioni\n",
    "with open(\"Files/proverbi.txt\") as f:\n",
    "    prov = f.read()\n",
    "    print(prov)"
   ]
  },
  {
   "cell_type": "code",
   "execution_count": 3,
   "id": "9df741e3",
   "metadata": {},
   "outputs": [
    {
     "name": "stdout",
     "output_type": "stream",
     "text": [
      "A buon intenditor, poche parole. \n",
      "A caval donato non si guarda in bocca. \n",
      "Anno nuovo, vita nuova. \n",
      "Bacco, Tabacco e Venere, riducon l’uomo in cenere. \n",
      "Buon sangue non mente. \n",
      "Campa cavallo che l’erba cresce. \n",
      "Can che abbaia non morde. \n",
      "Chi ben comincia è alla metà dell’opera. \n",
      "Chi è causa del suo mal, pianga se stesso.\n",
      "Chi la dura, la vince. \n",
      "Chiodo scaccia chiodo. \n",
      "Tanto la va la gatta al lardo che ci lascia lo zampino. \n"
     ]
    }
   ],
   "source": [
    "#avendo dichiarato una variabile all'interno del contesto questa rimane comunque accessibile anche dopo aver chiuso il contesto stesso\n",
    "print(prov)"
   ]
  },
  {
   "cell_type": "code",
   "execution_count": null,
   "id": "b88f4611",
   "metadata": {},
   "outputs": [
    {
     "data": {
      "text/plain": [
       "425"
      ]
     },
     "execution_count": 4,
     "metadata": {},
     "output_type": "execute_result"
    }
   ],
   "source": [
    "#nella funzione open possiamo specificare con quali permessi aprire il file, di default sarà \"r\", solo lettura. con \"w\" invece sarà solo scrittura\n",
    "#creiamo un nuovo file\n",
    "f = open(\"Files/prova.txt\", \"w\")\n",
    "f.write(prov) # ritorna il numero di caratteri scritti, non che la len() di f"
   ]
  },
  {
   "cell_type": "code",
   "execution_count": 5,
   "id": "158e4838",
   "metadata": {},
   "outputs": [],
   "source": [
    "f.close()"
   ]
  },
  {
   "cell_type": "code",
   "execution_count": null,
   "id": "ba4c00fe",
   "metadata": {},
   "outputs": [],
   "source": [
    "with open(\"Files/prova.txt\", \"w\") as f: #aprendo il file in \"w\" il cursore si posiziona all'inizio del file, quindi se scriviamo qualcosa sovrascriverà ciò che abbiamo scritto in precedenza\n",
    "    f.write(\"Hello, World\")"
   ]
  },
  {
   "cell_type": "code",
   "execution_count": 12,
   "id": "05bfa433",
   "metadata": {},
   "outputs": [],
   "source": [
    "with open(\"Files/prova.txt\", \"a\") as f: # con \"a\" invece facciamo una sorta di append, quindi il cursore si posizionerà alla fine del file, ma sempre senza i permessi di lettura\n",
    "    f.write(\"\\nPorca Madonna\")"
   ]
  },
  {
   "cell_type": "markdown",
   "id": "ccf04b0f",
   "metadata": {},
   "source": [
    "## Leggere un file in formato binario"
   ]
  },
  {
   "cell_type": "code",
   "execution_count": null,
   "id": "446274df",
   "metadata": {},
   "outputs": [
    {
     "data": {
      "text/plain": [
       "b'A buon intenditor, poche parole. \\n'"
      ]
     },
     "execution_count": 13,
     "metadata": {},
     "output_type": "execute_result"
    }
   ],
   "source": [
    "with open(\"Files/proverbi.txt\", \"rb\") as f: #con rb apriamo il file in binario\n",
    "    proverbi = f.readlines()\n",
    "\n",
    "proverbi[0] # la b all'inizio lascia intendere che sia una scritta in formato binario, per nostra facilità comunque viene stampata normalmente"
   ]
  },
  {
   "cell_type": "markdown",
   "id": "7de0225e",
   "metadata": {},
   "source": [
    "## Operare su file csv"
   ]
  },
  {
   "cell_type": "code",
   "execution_count": null,
   "id": "4f50c235",
   "metadata": {},
   "outputs": [
    {
     "name": "stdout",
     "output_type": "stream",
     "text": [
      "['', 'taglia', 'colore', 'prezzo']\n",
      "['0', 'S', 'bianco', '4.99']\n",
      "['1', 'M', 'bianco', '19.99']\n",
      "['2', 'XL', 'bianco', '12.49']\n",
      "['3', 'XL', 'bianco', '14.99']\n",
      "['4', 'S', 'bianco', '14.99']\n",
      "['5', 'S', 'verde', '7.99']\n",
      "['6', 'M', 'verde', '4.99']\n",
      "['7', 'L', 'verde', '12.49']\n",
      "['8', 'XL', 'bianco', '12.49']\n",
      "['9', 'M', 'verde', '19.99']\n",
      "['10', 'L', 'bianco', '14.99']\n",
      "['11', 'XL', 'bianco', '19.99']\n",
      "['12', 'M', 'bianco', '4.99']\n",
      "['13', 'L', 'bianco', '7.99']\n",
      "['14', 'M', 'bianco', '14.99']\n",
      "['15', 'XL', 'rosso', '9.99']\n",
      "['16', 'S', 'rosso', '12.49']\n",
      "['17', 'L', 'bianco', '7.99']\n",
      "['18', 'XL', 'bianco', '4.99']\n",
      "['19', 'M', 'verde', '14.99']\n",
      "['20', 'S', 'verde', '14.99']\n",
      "['21', 'XL', 'bianco', '7.99']\n",
      "['22', 'S', 'verde', '9.99']\n",
      "['23', 'XL', 'bianco', '14.99']\n",
      "['24', 'S', 'rosso', '14.99']\n",
      "['25', 'XL', 'bianco', '9.99']\n",
      "['26', 'M', 'verde', '7.99']\n",
      "['27', 'XL', 'bianco', '4.99']\n",
      "['28', 'S', 'verde', '14.99']\n",
      "['29', 'L', 'bianco', '12.49']\n",
      "['30', 'M', 'rosso', '9.99']\n",
      "['31', 'L', 'verde', '9.99']\n",
      "['32', 'XL', 'rosso', '7.99']\n",
      "['33', 'M', 'bianco', '19.99']\n",
      "['34', 'L', 'verde', '12.49']\n",
      "['35', 'L', 'bianco', '12.49']\n",
      "['36', 'L', 'bianco', '9.99']\n",
      "['37', 'XL', 'bianco', '14.99']\n",
      "['38', 'L', 'verde', '14.99']\n",
      "['39', 'XL', 'verde', '9.99']\n",
      "['40', 'M', 'bianco', '14.99']\n",
      "['41', 'L', 'verde', '19.99']\n",
      "['42', 'XL', 'verde', '7.99']\n",
      "['43', 'M', 'verde', '19.99']\n",
      "['44', 'L', 'rosso', '19.99']\n",
      "['45', 'XL', 'bianco', '9.99']\n",
      "['46', 'M', 'rosso', '12.49']\n",
      "['47', 'S', 'bianco', '7.99']\n",
      "['48', 'S', 'rosso', '14.99']\n",
      "['49', 'S', 'verde', '12.49']\n",
      "['50', 'XL', 'bianco', '19.99']\n",
      "['51', 'S', 'verde', '14.99']\n",
      "['52', 'S', 'bianco', '19.99']\n",
      "['53', 'M', 'verde', '9.99']\n",
      "['54', 'L', 'verde', '4.99']\n",
      "['55', 'M', 'verde', '12.49']\n",
      "['56', 'L', 'bianco', '12.49']\n",
      "['57', 'S', 'verde', '7.99']\n",
      "['58', 'S', 'verde', '19.99']\n",
      "['59', 'L', 'bianco', '9.99']\n",
      "['60', 'XL', 'rosso', '14.99']\n",
      "['61', 'M', 'bianco', '12.49']\n",
      "['62', 'XL', 'bianco', '14.99']\n",
      "['63', 'L', 'bianco', '9.99']\n",
      "['64', 'XL', 'verde', '14.99']\n",
      "['65', 'L', 'bianco', '12.49']\n",
      "['66', 'XL', 'bianco', '4.99']\n",
      "['67', 'L', 'bianco', '14.99']\n",
      "['68', 'L', 'verde', '9.99']\n",
      "['69', 'S', 'rosso', '14.99']\n",
      "['70', 'S', 'rosso', '19.99']\n",
      "['71', 'XL', 'rosso', '14.99']\n",
      "['72', 'S', 'bianco', '9.99']\n",
      "['73', 'S', 'rosso', '14.99']\n",
      "['74', 'L', 'bianco', '9.99']\n",
      "['75', 'XL', 'bianco', '9.99']\n",
      "['76', 'L', 'verde', '19.99']\n",
      "['77', 'XL', 'bianco', '19.99']\n",
      "['78', 'M', 'bianco', '4.99']\n",
      "['79', 'M', 'bianco', '9.99']\n",
      "['80', 'S', 'bianco', '14.99']\n",
      "['81', 'L', 'bianco', '19.99']\n",
      "['82', 'S', 'verde', '7.99']\n",
      "['83', 'XL', 'verde', '9.99']\n",
      "['84', 'M', 'bianco', '12.49']\n",
      "['85', 'L', 'verde', '4.99']\n",
      "['86', 'M', 'bianco', '7.99']\n",
      "['87', 'M', 'rosso', '14.99']\n",
      "['88', 'S', 'rosso', '9.99']\n",
      "['89', 'M', 'verde', '4.99']\n",
      "['90', 'M', 'bianco', '12.49']\n",
      "['91', 'M', 'rosso', '14.99']\n",
      "['92', 'L', 'verde', '19.99']\n",
      "['93', 'M', 'rosso', '7.99']\n",
      "['94', 'S', 'verde', '4.99']\n",
      "['95', 'L', 'bianco', '9.99']\n",
      "['96', 'M', 'verde', '14.99']\n",
      "['97', 'S', 'rosso', '12.49']\n",
      "['98', 'L', 'rosso', '12.49']\n",
      "['99', 'S', 'rosso', '19.99']\n"
     ]
    }
   ],
   "source": [
    "import csv\n",
    "\n",
    "with open(\"Files/shirts.csv\") as f: # cerchiamo di leggere un file csv e avere ogni riga all'interno di una lista\n",
    "    csv_reader = csv.reader(f)\n",
    "    for row in csv_reader:\n",
    "        print(row)"
   ]
  },
  {
   "cell_type": "code",
   "execution_count": 17,
   "id": "117d4d8e",
   "metadata": {},
   "outputs": [
    {
     "name": "stdout",
     "output_type": "stream",
     "text": [
      "Colonne: ['', 'taglia', 'colore', 'prezzo']\n",
      "Entry1: ['0', 'S', 'bianco', '4.99']\n",
      "Entry2: ['1', 'M', 'bianco', '19.99']\n",
      "Entry3: ['2', 'XL', 'bianco', '12.49']\n",
      "Entry4: ['3', 'XL', 'bianco', '14.99']\n",
      "Entry5: ['4', 'S', 'bianco', '14.99']\n",
      "Entry6: ['5', 'S', 'verde', '7.99']\n",
      "Entry7: ['6', 'M', 'verde', '4.99']\n",
      "Entry8: ['7', 'L', 'verde', '12.49']\n",
      "Entry9: ['8', 'XL', 'bianco', '12.49']\n",
      "Entry10: ['9', 'M', 'verde', '19.99']\n",
      "Entry11: ['10', 'L', 'bianco', '14.99']\n",
      "Entry12: ['11', 'XL', 'bianco', '19.99']\n",
      "Entry13: ['12', 'M', 'bianco', '4.99']\n",
      "Entry14: ['13', 'L', 'bianco', '7.99']\n",
      "Entry15: ['14', 'M', 'bianco', '14.99']\n",
      "Entry16: ['15', 'XL', 'rosso', '9.99']\n",
      "Entry17: ['16', 'S', 'rosso', '12.49']\n",
      "Entry18: ['17', 'L', 'bianco', '7.99']\n",
      "Entry19: ['18', 'XL', 'bianco', '4.99']\n",
      "Entry20: ['19', 'M', 'verde', '14.99']\n",
      "Entry21: ['20', 'S', 'verde', '14.99']\n",
      "Entry22: ['21', 'XL', 'bianco', '7.99']\n",
      "Entry23: ['22', 'S', 'verde', '9.99']\n",
      "Entry24: ['23', 'XL', 'bianco', '14.99']\n",
      "Entry25: ['24', 'S', 'rosso', '14.99']\n",
      "Entry26: ['25', 'XL', 'bianco', '9.99']\n",
      "Entry27: ['26', 'M', 'verde', '7.99']\n",
      "Entry28: ['27', 'XL', 'bianco', '4.99']\n",
      "Entry29: ['28', 'S', 'verde', '14.99']\n",
      "Entry30: ['29', 'L', 'bianco', '12.49']\n",
      "Entry31: ['30', 'M', 'rosso', '9.99']\n",
      "Entry32: ['31', 'L', 'verde', '9.99']\n",
      "Entry33: ['32', 'XL', 'rosso', '7.99']\n",
      "Entry34: ['33', 'M', 'bianco', '19.99']\n",
      "Entry35: ['34', 'L', 'verde', '12.49']\n",
      "Entry36: ['35', 'L', 'bianco', '12.49']\n",
      "Entry37: ['36', 'L', 'bianco', '9.99']\n",
      "Entry38: ['37', 'XL', 'bianco', '14.99']\n",
      "Entry39: ['38', 'L', 'verde', '14.99']\n",
      "Entry40: ['39', 'XL', 'verde', '9.99']\n",
      "Entry41: ['40', 'M', 'bianco', '14.99']\n",
      "Entry42: ['41', 'L', 'verde', '19.99']\n",
      "Entry43: ['42', 'XL', 'verde', '7.99']\n",
      "Entry44: ['43', 'M', 'verde', '19.99']\n",
      "Entry45: ['44', 'L', 'rosso', '19.99']\n",
      "Entry46: ['45', 'XL', 'bianco', '9.99']\n",
      "Entry47: ['46', 'M', 'rosso', '12.49']\n",
      "Entry48: ['47', 'S', 'bianco', '7.99']\n",
      "Entry49: ['48', 'S', 'rosso', '14.99']\n",
      "Entry50: ['49', 'S', 'verde', '12.49']\n",
      "Entry51: ['50', 'XL', 'bianco', '19.99']\n",
      "Entry52: ['51', 'S', 'verde', '14.99']\n",
      "Entry53: ['52', 'S', 'bianco', '19.99']\n",
      "Entry54: ['53', 'M', 'verde', '9.99']\n",
      "Entry55: ['54', 'L', 'verde', '4.99']\n",
      "Entry56: ['55', 'M', 'verde', '12.49']\n",
      "Entry57: ['56', 'L', 'bianco', '12.49']\n",
      "Entry58: ['57', 'S', 'verde', '7.99']\n",
      "Entry59: ['58', 'S', 'verde', '19.99']\n",
      "Entry60: ['59', 'L', 'bianco', '9.99']\n",
      "Entry61: ['60', 'XL', 'rosso', '14.99']\n",
      "Entry62: ['61', 'M', 'bianco', '12.49']\n",
      "Entry63: ['62', 'XL', 'bianco', '14.99']\n",
      "Entry64: ['63', 'L', 'bianco', '9.99']\n",
      "Entry65: ['64', 'XL', 'verde', '14.99']\n",
      "Entry66: ['65', 'L', 'bianco', '12.49']\n",
      "Entry67: ['66', 'XL', 'bianco', '4.99']\n",
      "Entry68: ['67', 'L', 'bianco', '14.99']\n",
      "Entry69: ['68', 'L', 'verde', '9.99']\n",
      "Entry70: ['69', 'S', 'rosso', '14.99']\n",
      "Entry71: ['70', 'S', 'rosso', '19.99']\n",
      "Entry72: ['71', 'XL', 'rosso', '14.99']\n",
      "Entry73: ['72', 'S', 'bianco', '9.99']\n",
      "Entry74: ['73', 'S', 'rosso', '14.99']\n",
      "Entry75: ['74', 'L', 'bianco', '9.99']\n",
      "Entry76: ['75', 'XL', 'bianco', '9.99']\n",
      "Entry77: ['76', 'L', 'verde', '19.99']\n",
      "Entry78: ['77', 'XL', 'bianco', '19.99']\n",
      "Entry79: ['78', 'M', 'bianco', '4.99']\n",
      "Entry80: ['79', 'M', 'bianco', '9.99']\n",
      "Entry81: ['80', 'S', 'bianco', '14.99']\n",
      "Entry82: ['81', 'L', 'bianco', '19.99']\n",
      "Entry83: ['82', 'S', 'verde', '7.99']\n",
      "Entry84: ['83', 'XL', 'verde', '9.99']\n",
      "Entry85: ['84', 'M', 'bianco', '12.49']\n",
      "Entry86: ['85', 'L', 'verde', '4.99']\n",
      "Entry87: ['86', 'M', 'bianco', '7.99']\n",
      "Entry88: ['87', 'M', 'rosso', '14.99']\n",
      "Entry89: ['88', 'S', 'rosso', '9.99']\n",
      "Entry90: ['89', 'M', 'verde', '4.99']\n",
      "Entry91: ['90', 'M', 'bianco', '12.49']\n",
      "Entry92: ['91', 'M', 'rosso', '14.99']\n",
      "Entry93: ['92', 'L', 'verde', '19.99']\n",
      "Entry94: ['93', 'M', 'rosso', '7.99']\n",
      "Entry95: ['94', 'S', 'verde', '4.99']\n",
      "Entry96: ['95', 'L', 'bianco', '9.99']\n",
      "Entry97: ['96', 'M', 'verde', '14.99']\n",
      "Entry98: ['97', 'S', 'rosso', '12.49']\n",
      "Entry99: ['98', 'L', 'rosso', '12.49']\n",
      "Entry100: ['99', 'S', 'rosso', '19.99']\n"
     ]
    }
   ],
   "source": [
    "import csv\n",
    "\n",
    "with open(\"Files/shirts.csv\") as f: # versione completa\n",
    "    csv_reader = csv.reader(f)\n",
    "    \n",
    "    for i, row in enumerate(csv_reader):\n",
    "        if i == 0:\n",
    "            print(\"Colonne:\", row)\n",
    "        else:\n",
    "            print(f\"Entry{i}: {row}\")"
   ]
  },
  {
   "cell_type": "code",
   "execution_count": 19,
   "id": "79b3ad7b",
   "metadata": {},
   "outputs": [
    {
     "name": "stdout",
     "output_type": "stream",
     "text": [
      "['', 'taglia', 'colore', 'prezzo']\n",
      "{'': '0', 'taglia': 'S', 'colore': 'bianco', 'prezzo': '4.99'}\n",
      "{'': '1', 'taglia': 'M', 'colore': 'bianco', 'prezzo': '19.99'}\n",
      "{'': '2', 'taglia': 'XL', 'colore': 'bianco', 'prezzo': '12.49'}\n",
      "{'': '3', 'taglia': 'XL', 'colore': 'bianco', 'prezzo': '14.99'}\n",
      "{'': '4', 'taglia': 'S', 'colore': 'bianco', 'prezzo': '14.99'}\n",
      "{'': '5', 'taglia': 'S', 'colore': 'verde', 'prezzo': '7.99'}\n",
      "{'': '6', 'taglia': 'M', 'colore': 'verde', 'prezzo': '4.99'}\n",
      "{'': '7', 'taglia': 'L', 'colore': 'verde', 'prezzo': '12.49'}\n",
      "{'': '8', 'taglia': 'XL', 'colore': 'bianco', 'prezzo': '12.49'}\n",
      "{'': '9', 'taglia': 'M', 'colore': 'verde', 'prezzo': '19.99'}\n",
      "{'': '10', 'taglia': 'L', 'colore': 'bianco', 'prezzo': '14.99'}\n",
      "{'': '11', 'taglia': 'XL', 'colore': 'bianco', 'prezzo': '19.99'}\n",
      "{'': '12', 'taglia': 'M', 'colore': 'bianco', 'prezzo': '4.99'}\n",
      "{'': '13', 'taglia': 'L', 'colore': 'bianco', 'prezzo': '7.99'}\n",
      "{'': '14', 'taglia': 'M', 'colore': 'bianco', 'prezzo': '14.99'}\n",
      "{'': '15', 'taglia': 'XL', 'colore': 'rosso', 'prezzo': '9.99'}\n",
      "{'': '16', 'taglia': 'S', 'colore': 'rosso', 'prezzo': '12.49'}\n",
      "{'': '17', 'taglia': 'L', 'colore': 'bianco', 'prezzo': '7.99'}\n",
      "{'': '18', 'taglia': 'XL', 'colore': 'bianco', 'prezzo': '4.99'}\n",
      "{'': '19', 'taglia': 'M', 'colore': 'verde', 'prezzo': '14.99'}\n",
      "{'': '20', 'taglia': 'S', 'colore': 'verde', 'prezzo': '14.99'}\n",
      "{'': '21', 'taglia': 'XL', 'colore': 'bianco', 'prezzo': '7.99'}\n",
      "{'': '22', 'taglia': 'S', 'colore': 'verde', 'prezzo': '9.99'}\n",
      "{'': '23', 'taglia': 'XL', 'colore': 'bianco', 'prezzo': '14.99'}\n",
      "{'': '24', 'taglia': 'S', 'colore': 'rosso', 'prezzo': '14.99'}\n",
      "{'': '25', 'taglia': 'XL', 'colore': 'bianco', 'prezzo': '9.99'}\n",
      "{'': '26', 'taglia': 'M', 'colore': 'verde', 'prezzo': '7.99'}\n",
      "{'': '27', 'taglia': 'XL', 'colore': 'bianco', 'prezzo': '4.99'}\n",
      "{'': '28', 'taglia': 'S', 'colore': 'verde', 'prezzo': '14.99'}\n",
      "{'': '29', 'taglia': 'L', 'colore': 'bianco', 'prezzo': '12.49'}\n",
      "{'': '30', 'taglia': 'M', 'colore': 'rosso', 'prezzo': '9.99'}\n",
      "{'': '31', 'taglia': 'L', 'colore': 'verde', 'prezzo': '9.99'}\n",
      "{'': '32', 'taglia': 'XL', 'colore': 'rosso', 'prezzo': '7.99'}\n",
      "{'': '33', 'taglia': 'M', 'colore': 'bianco', 'prezzo': '19.99'}\n",
      "{'': '34', 'taglia': 'L', 'colore': 'verde', 'prezzo': '12.49'}\n",
      "{'': '35', 'taglia': 'L', 'colore': 'bianco', 'prezzo': '12.49'}\n",
      "{'': '36', 'taglia': 'L', 'colore': 'bianco', 'prezzo': '9.99'}\n",
      "{'': '37', 'taglia': 'XL', 'colore': 'bianco', 'prezzo': '14.99'}\n",
      "{'': '38', 'taglia': 'L', 'colore': 'verde', 'prezzo': '14.99'}\n",
      "{'': '39', 'taglia': 'XL', 'colore': 'verde', 'prezzo': '9.99'}\n",
      "{'': '40', 'taglia': 'M', 'colore': 'bianco', 'prezzo': '14.99'}\n",
      "{'': '41', 'taglia': 'L', 'colore': 'verde', 'prezzo': '19.99'}\n",
      "{'': '42', 'taglia': 'XL', 'colore': 'verde', 'prezzo': '7.99'}\n",
      "{'': '43', 'taglia': 'M', 'colore': 'verde', 'prezzo': '19.99'}\n",
      "{'': '44', 'taglia': 'L', 'colore': 'rosso', 'prezzo': '19.99'}\n",
      "{'': '45', 'taglia': 'XL', 'colore': 'bianco', 'prezzo': '9.99'}\n",
      "{'': '46', 'taglia': 'M', 'colore': 'rosso', 'prezzo': '12.49'}\n",
      "{'': '47', 'taglia': 'S', 'colore': 'bianco', 'prezzo': '7.99'}\n",
      "{'': '48', 'taglia': 'S', 'colore': 'rosso', 'prezzo': '14.99'}\n",
      "{'': '49', 'taglia': 'S', 'colore': 'verde', 'prezzo': '12.49'}\n",
      "{'': '50', 'taglia': 'XL', 'colore': 'bianco', 'prezzo': '19.99'}\n",
      "{'': '51', 'taglia': 'S', 'colore': 'verde', 'prezzo': '14.99'}\n",
      "{'': '52', 'taglia': 'S', 'colore': 'bianco', 'prezzo': '19.99'}\n",
      "{'': '53', 'taglia': 'M', 'colore': 'verde', 'prezzo': '9.99'}\n",
      "{'': '54', 'taglia': 'L', 'colore': 'verde', 'prezzo': '4.99'}\n",
      "{'': '55', 'taglia': 'M', 'colore': 'verde', 'prezzo': '12.49'}\n",
      "{'': '56', 'taglia': 'L', 'colore': 'bianco', 'prezzo': '12.49'}\n",
      "{'': '57', 'taglia': 'S', 'colore': 'verde', 'prezzo': '7.99'}\n",
      "{'': '58', 'taglia': 'S', 'colore': 'verde', 'prezzo': '19.99'}\n",
      "{'': '59', 'taglia': 'L', 'colore': 'bianco', 'prezzo': '9.99'}\n",
      "{'': '60', 'taglia': 'XL', 'colore': 'rosso', 'prezzo': '14.99'}\n",
      "{'': '61', 'taglia': 'M', 'colore': 'bianco', 'prezzo': '12.49'}\n",
      "{'': '62', 'taglia': 'XL', 'colore': 'bianco', 'prezzo': '14.99'}\n",
      "{'': '63', 'taglia': 'L', 'colore': 'bianco', 'prezzo': '9.99'}\n",
      "{'': '64', 'taglia': 'XL', 'colore': 'verde', 'prezzo': '14.99'}\n",
      "{'': '65', 'taglia': 'L', 'colore': 'bianco', 'prezzo': '12.49'}\n",
      "{'': '66', 'taglia': 'XL', 'colore': 'bianco', 'prezzo': '4.99'}\n",
      "{'': '67', 'taglia': 'L', 'colore': 'bianco', 'prezzo': '14.99'}\n",
      "{'': '68', 'taglia': 'L', 'colore': 'verde', 'prezzo': '9.99'}\n",
      "{'': '69', 'taglia': 'S', 'colore': 'rosso', 'prezzo': '14.99'}\n",
      "{'': '70', 'taglia': 'S', 'colore': 'rosso', 'prezzo': '19.99'}\n",
      "{'': '71', 'taglia': 'XL', 'colore': 'rosso', 'prezzo': '14.99'}\n",
      "{'': '72', 'taglia': 'S', 'colore': 'bianco', 'prezzo': '9.99'}\n",
      "{'': '73', 'taglia': 'S', 'colore': 'rosso', 'prezzo': '14.99'}\n",
      "{'': '74', 'taglia': 'L', 'colore': 'bianco', 'prezzo': '9.99'}\n",
      "{'': '75', 'taglia': 'XL', 'colore': 'bianco', 'prezzo': '9.99'}\n",
      "{'': '76', 'taglia': 'L', 'colore': 'verde', 'prezzo': '19.99'}\n",
      "{'': '77', 'taglia': 'XL', 'colore': 'bianco', 'prezzo': '19.99'}\n",
      "{'': '78', 'taglia': 'M', 'colore': 'bianco', 'prezzo': '4.99'}\n",
      "{'': '79', 'taglia': 'M', 'colore': 'bianco', 'prezzo': '9.99'}\n",
      "{'': '80', 'taglia': 'S', 'colore': 'bianco', 'prezzo': '14.99'}\n",
      "{'': '81', 'taglia': 'L', 'colore': 'bianco', 'prezzo': '19.99'}\n",
      "{'': '82', 'taglia': 'S', 'colore': 'verde', 'prezzo': '7.99'}\n",
      "{'': '83', 'taglia': 'XL', 'colore': 'verde', 'prezzo': '9.99'}\n",
      "{'': '84', 'taglia': 'M', 'colore': 'bianco', 'prezzo': '12.49'}\n",
      "{'': '85', 'taglia': 'L', 'colore': 'verde', 'prezzo': '4.99'}\n",
      "{'': '86', 'taglia': 'M', 'colore': 'bianco', 'prezzo': '7.99'}\n",
      "{'': '87', 'taglia': 'M', 'colore': 'rosso', 'prezzo': '14.99'}\n",
      "{'': '88', 'taglia': 'S', 'colore': 'rosso', 'prezzo': '9.99'}\n",
      "{'': '89', 'taglia': 'M', 'colore': 'verde', 'prezzo': '4.99'}\n",
      "{'': '90', 'taglia': 'M', 'colore': 'bianco', 'prezzo': '12.49'}\n",
      "{'': '91', 'taglia': 'M', 'colore': 'rosso', 'prezzo': '14.99'}\n",
      "{'': '92', 'taglia': 'L', 'colore': 'verde', 'prezzo': '19.99'}\n",
      "{'': '93', 'taglia': 'M', 'colore': 'rosso', 'prezzo': '7.99'}\n",
      "{'': '94', 'taglia': 'S', 'colore': 'verde', 'prezzo': '4.99'}\n",
      "{'': '95', 'taglia': 'L', 'colore': 'bianco', 'prezzo': '9.99'}\n",
      "{'': '96', 'taglia': 'M', 'colore': 'verde', 'prezzo': '14.99'}\n",
      "{'': '97', 'taglia': 'S', 'colore': 'rosso', 'prezzo': '12.49'}\n",
      "{'': '98', 'taglia': 'L', 'colore': 'rosso', 'prezzo': '12.49'}\n",
      "{'': '99', 'taglia': 'S', 'colore': 'rosso', 'prezzo': '19.99'}\n"
     ]
    }
   ],
   "source": [
    "#con il modulo csv possiamo anche salvare il contenuto di un file csv dentro a un dizionario\n",
    "with open(\"Files/shirts.csv\") as f:\n",
    "    csv_r = csv.DictReader(f)\n",
    "    print(csv_r.fieldnames)\n",
    "    \n",
    "    for row in csv_r:\n",
    "        print(row)\n",
    "    "
   ]
  },
  {
   "cell_type": "code",
   "execution_count": 20,
   "id": "95ccbd0a",
   "metadata": {},
   "outputs": [
    {
     "name": "stdout",
     "output_type": "stream",
     "text": [
      "taglia\tcolore\tprezzo\t\n",
      "S\tbianco\t4.99\t\n",
      "M\tbianco\t19.99\t\n",
      "XL\tbianco\t12.49\t\n",
      "XL\tbianco\t14.99\t\n",
      "S\tbianco\t14.99\t\n",
      "S\tverde\t7.99\t\n",
      "M\tverde\t4.99\t\n",
      "L\tverde\t12.49\t\n",
      "XL\tbianco\t12.49\t\n",
      "M\tverde\t19.99\t\n",
      "L\tbianco\t14.99\t\n",
      "XL\tbianco\t19.99\t\n",
      "M\tbianco\t4.99\t\n",
      "L\tbianco\t7.99\t\n",
      "M\tbianco\t14.99\t\n",
      "XL\trosso\t9.99\t\n",
      "S\trosso\t12.49\t\n",
      "L\tbianco\t7.99\t\n",
      "XL\tbianco\t4.99\t\n",
      "M\tverde\t14.99\t\n",
      "S\tverde\t14.99\t\n",
      "XL\tbianco\t7.99\t\n",
      "S\tverde\t9.99\t\n",
      "XL\tbianco\t14.99\t\n",
      "S\trosso\t14.99\t\n",
      "XL\tbianco\t9.99\t\n",
      "M\tverde\t7.99\t\n",
      "XL\tbianco\t4.99\t\n",
      "S\tverde\t14.99\t\n",
      "L\tbianco\t12.49\t\n",
      "M\trosso\t9.99\t\n",
      "L\tverde\t9.99\t\n",
      "XL\trosso\t7.99\t\n",
      "M\tbianco\t19.99\t\n",
      "L\tverde\t12.49\t\n",
      "L\tbianco\t12.49\t\n",
      "L\tbianco\t9.99\t\n",
      "XL\tbianco\t14.99\t\n",
      "L\tverde\t14.99\t\n",
      "XL\tverde\t9.99\t\n",
      "M\tbianco\t14.99\t\n",
      "L\tverde\t19.99\t\n",
      "XL\tverde\t7.99\t\n",
      "M\tverde\t19.99\t\n",
      "L\trosso\t19.99\t\n",
      "XL\tbianco\t9.99\t\n",
      "M\trosso\t12.49\t\n",
      "S\tbianco\t7.99\t\n",
      "S\trosso\t14.99\t\n",
      "S\tverde\t12.49\t\n",
      "XL\tbianco\t19.99\t\n",
      "S\tverde\t14.99\t\n",
      "S\tbianco\t19.99\t\n",
      "M\tverde\t9.99\t\n",
      "L\tverde\t4.99\t\n",
      "M\tverde\t12.49\t\n",
      "L\tbianco\t12.49\t\n",
      "S\tverde\t7.99\t\n",
      "S\tverde\t19.99\t\n",
      "L\tbianco\t9.99\t\n",
      "XL\trosso\t14.99\t\n",
      "M\tbianco\t12.49\t\n",
      "XL\tbianco\t14.99\t\n",
      "L\tbianco\t9.99\t\n",
      "XL\tverde\t14.99\t\n",
      "L\tbianco\t12.49\t\n",
      "XL\tbianco\t4.99\t\n",
      "L\tbianco\t14.99\t\n",
      "L\tverde\t9.99\t\n",
      "S\trosso\t14.99\t\n",
      "S\trosso\t19.99\t\n",
      "XL\trosso\t14.99\t\n",
      "S\tbianco\t9.99\t\n",
      "S\trosso\t14.99\t\n",
      "L\tbianco\t9.99\t\n",
      "XL\tbianco\t9.99\t\n",
      "L\tverde\t19.99\t\n",
      "XL\tbianco\t19.99\t\n",
      "M\tbianco\t4.99\t\n",
      "M\tbianco\t9.99\t\n",
      "S\tbianco\t14.99\t\n",
      "L\tbianco\t19.99\t\n",
      "S\tverde\t7.99\t\n",
      "XL\tverde\t9.99\t\n",
      "M\tbianco\t12.49\t\n",
      "L\tverde\t4.99\t\n",
      "M\tbianco\t7.99\t\n",
      "M\trosso\t14.99\t\n",
      "S\trosso\t9.99\t\n",
      "M\tverde\t4.99\t\n",
      "M\tbianco\t12.49\t\n",
      "M\trosso\t14.99\t\n",
      "L\tverde\t19.99\t\n",
      "M\trosso\t7.99\t\n",
      "S\tverde\t4.99\t\n",
      "L\tbianco\t9.99\t\n",
      "M\tverde\t14.99\t\n",
      "S\trosso\t12.49\t\n",
      "L\trosso\t12.49\t\n",
      "S\trosso\t19.99\t\n"
     ]
    }
   ],
   "source": [
    "#leggiamolo ora in formato tabulare\n",
    "with open(\"Files/shirts.csv\") as f:\n",
    "    reader = csv.DictReader(f)\n",
    "\n",
    "    print(\"%s\\t%s\\t%s\\t\" % tuple(reader.fieldnames[1:])) # stampiamo le colonne, deve essere una tupla per lavorare con il placeholder (%)\n",
    "\n",
    "    for row in reader:\n",
    "        print(\"%s\\t%s\\t%s\\t\" % (row[\"taglia\"], row[\"colore\"], row[\"prezzo\"]))"
   ]
  },
  {
   "cell_type": "code",
   "execution_count": 22,
   "id": "5e4d0136",
   "metadata": {},
   "outputs": [],
   "source": [
    "#per scrivere in un csv dobbiamo avere qualche accortezza, all'inizio mettiamo un \\n per andare a capo correttamente, poi modifichiamo il parametro newline della funzione open per non aggiungere righe vuote inutili, il default è \\n\n",
    "with open(\"Files/shirts.csv\", \"a\", newline=\"\") as f:\n",
    "    f.write(\"\\n\")  #primo a capo \n",
    "    writer = csv.writer(f) # dobbiamo inizializzare il writer con questa funzione, non spiega il perchè\n",
    "    writer.writerow([100, \"XXL\", \"ciano\", 49.99])\n",
    "    writer.writerow([101, \"XL\", \"rosso\", 59.99])"
   ]
  },
  {
   "cell_type": "markdown",
   "id": "db0f7653",
   "metadata": {},
   "source": [
    "## Operare su file JSON"
   ]
  },
  {
   "cell_type": "code",
   "execution_count": 23,
   "id": "d1533933",
   "metadata": {},
   "outputs": [],
   "source": [
    "inventory = {\n",
    "    \"abbigliamento\":{\n",
    "        \"magliette\":[\n",
    "            {\"taglia\":\"XL\", \"colore\":\"rosso\", \"prezzo\":14.99},\n",
    "            {\"taglia\":\"L\", \"colore\":\"blu\", \"prezzo\":16.99},\n",
    "            {\"taglia\":\"L\", \"colore\":\"bianco\", \"prezzo\":12.99}\n",
    "        ],\n",
    "        \"pantaloni\":[\n",
    "            {\"taglia\":46, \"colore\":\"nero\", \"prezzo\":24.99},\n",
    "            {\"taglia\":48, \"colore\":\"nero\", \"prezzo\":24.99},\n",
    "            {\"taglia\":50, \"colore\":\"bianco\", \"prezzo\":22.99}\n",
    "        ]\n",
    "    },\n",
    "    \"accessori\":{\n",
    "        \"borsa\":\n",
    "        [\n",
    "          {\"marca\":\"Alvaro Vitali\", \"prezzo\":79.99},\n",
    "          {\"marca\":\"Ingino Massini\", \"prezzo\":49.99},\n",
    "        ],\n",
    "        \"cinture\":[\n",
    "            {\"colore\":\"nero\", \"prezzo\":8.99},\n",
    "            {\"colore\":\"marrone\", \"prezzo\":8.99}\n",
    "        ]\n",
    "    }\n",
    "}"
   ]
  },
  {
   "cell_type": "code",
   "execution_count": 24,
   "id": "ffd0cb4f",
   "metadata": {},
   "outputs": [
    {
     "data": {
      "text/plain": [
       "'XL'"
      ]
     },
     "execution_count": 24,
     "metadata": {},
     "output_type": "execute_result"
    }
   ],
   "source": [
    "#proviamo a recuperare solo la taglia della prima maglietta\n",
    "inventory[\"abbigliamento\"][\"magliette\"][0][\"taglia\"]"
   ]
  },
  {
   "cell_type": "code",
   "execution_count": 25,
   "id": "42a18a27",
   "metadata": {},
   "outputs": [
    {
     "name": "stdout",
     "output_type": "stream",
     "text": [
      "{\"abbigliamento\": {\"magliette\": [{\"taglia\": \"XL\", \"colore\": \"rosso\", \"prezzo\": 14.99}, {\"taglia\": \"L\", \"colore\": \"blu\", \"prezzo\": 16.99}, {\"taglia\": \"L\", \"colore\": \"bianco\", \"prezzo\": 12.99}], \"pantaloni\": [{\"taglia\": 46, \"colore\": \"nero\", \"prezzo\": 24.99}, {\"taglia\": 48, \"colore\": \"nero\", \"prezzo\": 24.99}, {\"taglia\": 50, \"colore\": \"bianco\", \"prezzo\": 22.99}]}, \"accessori\": {\"borsa\": [{\"marca\": \"Alvaro Vitali\", \"prezzo\": 79.99}, {\"marca\": \"Ingino Massini\", \"prezzo\": 49.99}], \"cinture\": [{\"colore\": \"nero\", \"prezzo\": 8.99}, {\"colore\": \"marrone\", \"prezzo\": 8.99}]}}\n"
     ]
    }
   ],
   "source": [
    "#per scrivere una dict in un file json:\n",
    "import json\n",
    "\n",
    "inventory_str = json.dumps(inventory) # con dumps trasformiamo la dict in una stringa (to dump - scaricare, s=stringa. scarichiamo in una stringa)\n",
    "print(inventory_str)"
   ]
  },
  {
   "cell_type": "code",
   "execution_count": 26,
   "id": "5921eda2",
   "metadata": {},
   "outputs": [
    {
     "data": {
      "text/plain": [
       "str"
      ]
     },
     "execution_count": 26,
     "metadata": {},
     "output_type": "execute_result"
    }
   ],
   "source": [
    "type(inventory_str)"
   ]
  },
  {
   "cell_type": "code",
   "execution_count": null,
   "id": "34c65d53",
   "metadata": {},
   "outputs": [],
   "source": [
    "with open(\"Files/new_inventory.json\", \"w\") as f: # scriviamo un nuovo file json, ma formattato male (tutto su una riga)\n",
    "    f.write(inventory_str)\n",
    "    \n",
    "#sul sito jsonlint.com possiamo validare un file json"
   ]
  },
  {
   "cell_type": "code",
   "execution_count": 28,
   "id": "d275b4b5",
   "metadata": {},
   "outputs": [
    {
     "data": {
      "text/plain": [
       "dict"
      ]
     },
     "execution_count": 28,
     "metadata": {},
     "output_type": "execute_result"
    }
   ],
   "source": [
    "#processo inverso, convertiamo un filw json in una dict di python\n",
    "inventory_dict = json.loads(inventory_str)\n",
    "type(inventory_dict)"
   ]
  },
  {
   "cell_type": "code",
   "execution_count": 29,
   "id": "fa2d392d",
   "metadata": {},
   "outputs": [],
   "source": [
    "#come fare a scrivere un file json formattato correttamente\n",
    "with open(\"Files/new_inventory_2.json\", \"w\") as f:\n",
    "    json.dump(inventory_dict, f, indent=4) # questa volta usiamo dump senza s e passiamo 3 paramentri, la dict da scrivere, il file in cui scrivere e modifichiamo indent con il numero di caratteri di indentazione che vogliamo dare a ogni riga della dict"
   ]
  },
  {
   "cell_type": "code",
   "execution_count": 30,
   "id": "3c9ecce6",
   "metadata": {},
   "outputs": [
    {
     "data": {
      "text/plain": [
       "dict"
      ]
     },
     "execution_count": 30,
     "metadata": {},
     "output_type": "execute_result"
    }
   ],
   "source": [
    "#se vogliamo dunque da un file json creare direttamente una dict\n",
    "with open(\"Files/new_inventory_2.json\") as f:\n",
    "    inventory = json.load(f)\n",
    "    \n",
    "type(inventory)"
   ]
  },
  {
   "cell_type": "code",
   "execution_count": 31,
   "id": "5c570716",
   "metadata": {},
   "outputs": [
    {
     "data": {
      "text/plain": [
       "{'abbigliamento': {'magliette': [{'taglia': 'XL',\n",
       "    'colore': 'rosso',\n",
       "    'prezzo': 14.99},\n",
       "   {'taglia': 'L', 'colore': 'blu', 'prezzo': 16.99},\n",
       "   {'taglia': 'L', 'colore': 'bianco', 'prezzo': 12.99}],\n",
       "  'pantaloni': [{'taglia': 46, 'colore': 'nero', 'prezzo': 24.99},\n",
       "   {'taglia': 48, 'colore': 'nero', 'prezzo': 24.99},\n",
       "   {'taglia': 50, 'colore': 'bianco', 'prezzo': 22.99}]},\n",
       " 'accessori': {'borsa': [{'marca': 'Alvaro Vitali', 'prezzo': 79.99},\n",
       "   {'marca': 'Ingino Massini', 'prezzo': 49.99}],\n",
       "  'cinture': [{'colore': 'nero', 'prezzo': 8.99},\n",
       "   {'colore': 'marrone', 'prezzo': 8.99}]}}"
      ]
     },
     "execution_count": 31,
     "metadata": {},
     "output_type": "execute_result"
    }
   ],
   "source": [
    "inventory"
   ]
  },
  {
   "cell_type": "code",
   "execution_count": null,
   "id": "8228a7f7",
   "metadata": {},
   "outputs": [],
   "source": []
  }
 ],
 "metadata": {
  "kernelspec": {
   "display_name": ".venv",
   "language": "python",
   "name": "python3"
  },
  "language_info": {
   "codemirror_mode": {
    "name": "ipython",
    "version": 3
   },
   "file_extension": ".py",
   "mimetype": "text/x-python",
   "name": "python",
   "nbconvert_exporter": "python",
   "pygments_lexer": "ipython3",
   "version": "3.12.9"
  }
 },
 "nbformat": 4,
 "nbformat_minor": 5
}
