{
 "cells": [
  {
   "cell_type": "markdown",
   "metadata": {},
   "source": [
    "# Il Ciclo While"
   ]
  },
  {
   "cell_type": "code",
   "execution_count": 3,
   "metadata": {},
   "outputs": [
    {
     "name": "stdout",
     "output_type": "stream",
     "text": [
      "La mia lista della spesa\n",
      "1) tofu\n",
      "2) latte di soia\n",
      "3) riso basmati\n",
      "4) yogurt greco\n"
     ]
    }
   ],
   "source": [
    "shopping_list = [\"tofu\", \"latte di soia\", \"riso basmati\", \"yogurt greco\"]\n",
    "\n",
    "i = 0\n",
    "\n",
    "print(\"La mia lista della spesa\")\n",
    "\n",
    "while i < len(shopping_list):\n",
    "    print(f\"{i+1}) {shopping_list[i]}\")\n",
    "    i += 1"
   ]
  },
  {
   "cell_type": "markdown",
   "metadata": {},
   "source": [
    "### Break and continue"
   ]
  },
  {
   "cell_type": "code",
   "execution_count": null,
   "metadata": {},
   "outputs": [
    {
     "name": "stdout",
     "output_type": "stream",
     "text": [
      "La mia lista della spesa\n",
      "1) pizza\n",
      "2) vino\n",
      "Fine della lista\n"
     ]
    }
   ],
   "source": [
    "shopping_list = [\"pizza\", \"vino\", \"birra senza glutine\", \"uova\", \"carne\", \"cioccolata\"]\n",
    "\n",
    "print(\"La mia lista della spesa\")\n",
    "\n",
    "for i, item in enumerate(shopping_list):\n",
    "    if \"glutine\" in item:\n",
    "        break                   #in questo caso appena uno dei valori contenuti nella lista contiene la stringa \"glutine\" il ciclo si interrompe e passerà alle azioni successive\n",
    "    print(f\"{i + 1}) {item}\")\n",
    "\n",
    "print(\"Fine della lista\")"
   ]
  },
  {
   "cell_type": "code",
   "execution_count": null,
   "metadata": {},
   "outputs": [
    {
     "name": "stdout",
     "output_type": "stream",
     "text": [
      "La mia lista della spesa\n",
      "1) pizza\n",
      "2) vino\n",
      "4) uova\n",
      "5) carne\n",
      "6) cioccolata\n",
      "Fine della lista\n"
     ]
    }
   ],
   "source": [
    "shopping_list = [\"pizza\", \"vino\", \"birra senza glutine\", \"uova\", \"carne\", \"cioccolata\"]\n",
    "\n",
    "print(\"La mia lista della spesa\")\n",
    "\n",
    "for i, item in enumerate(shopping_list):\n",
    "    if \"glutine\" in item:\n",
    "        continue                   #in questo caso appena uno dei valori contenuti nella lista contiene la stringa \"glutine\" il ciclo NON si interrompe ma passerà alla iterazione successiva, saltando tutto il resto del codice all'intern del ciclo (salta un print in questo caso)\n",
    "    print(f\"{i + 1}) {item}\")\n",
    "\n",
    "print(\"Fine della lista\")"
   ]
  }
 ],
 "metadata": {
  "kernelspec": {
   "display_name": ".venv",
   "language": "python",
   "name": "python3"
  },
  "language_info": {
   "codemirror_mode": {
    "name": "ipython",
    "version": 3
   },
   "file_extension": ".py",
   "mimetype": "text/x-python",
   "name": "python",
   "nbconvert_exporter": "python",
   "pygments_lexer": "ipython3",
   "version": "3.12.9"
  }
 },
 "nbformat": 4,
 "nbformat_minor": 2
}
