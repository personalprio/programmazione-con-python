{
 "cells": [
  {
   "cell_type": "markdown",
   "id": "22308d24",
   "metadata": {},
   "source": [
    "## Positional e Keyword arguments\n",
    "Quando definiamo una funzione possiamo impostare dei parametri che possono essere di tipo posizionale o keyword.<br>\n",
    "Positional: Non hanno un valore di default e quando richiamiamo la funzione gli argomenti passati devono essere nella stessa posizione dei parametri definiti in precedenza.<br>\n",
    "Keyord: Hanno un valore di default e gli argomenti possono avere un ordine qualsiasi.<br>\n",
    "<br>\n",
    "Possiamo definire una funzione con entrambi i paramentri insieme ma allora i keyword andrando PER FORZA definiti per ultimi."
   ]
  },
  {
   "cell_type": "code",
   "execution_count": 6,
   "id": "766cf1b0",
   "metadata": {},
   "outputs": [
    {
     "name": "stdout",
     "output_type": "stream",
     "text": [
      "Hello Riccardo Priotto\n",
      "Hello Priotto Riccardo\n"
     ]
    }
   ],
   "source": [
    "#Positional\n",
    "def hello_world(name, surname):\n",
    "    print(\"Hello\", name, surname)\n",
    "\n",
    "hello_world(\"Riccardo\", \"Priotto\")\n",
    "\n",
    "nome = \"Riccardo\"\n",
    "cognome = \"Priotto\"\n",
    "hello_world(cognome, nome) # anche se invertiamo l'ordine fa comunque riferimento alla posizione definita dei paramentri"
   ]
  },
  {
   "cell_type": "code",
   "execution_count": null,
   "id": "f436372c",
   "metadata": {},
   "outputs": [
    {
     "name": "stdout",
     "output_type": "stream",
     "text": [
      "Hello Riccardo Priotto\n",
      "Hello Marta Petrucci\n"
     ]
    }
   ],
   "source": [
    "#Keyword\n",
    "def say_hello(nome = \"Riccardo\", cognome = \"Priotto\"):\n",
    "    print(\"Hello\", nome, cognome)\n",
    "\n",
    "say_hello() # se non passo nessun argomento prende i valori di default dei paramentri\n",
    "say_hello(cognome=\"Petrucci\", nome=\"Marta\") # in questo caso l'ordine non cambia"
   ]
  },
  {
   "cell_type": "markdown",
   "id": "3168985e",
   "metadata": {},
   "source": [
    "### Funzione con return\n",
    "Una funzione può ritornare un valore (chiamata Fruitful Fuction) invece che semplicemente stampare a schermo qualcosa.<br>\n",
    "Le funzioni che non hanno un keyword di return vengono invece chiamate Void Function. In verità anche queste funzioni ritornano qualcosa (None)."
   ]
  },
  {
   "cell_type": "code",
   "execution_count": 11,
   "id": "f1366adb",
   "metadata": {},
   "outputs": [
    {
     "name": "stdout",
     "output_type": "stream",
     "text": [
      "Dì Qualcosa\n"
     ]
    }
   ],
   "source": [
    "def say_something(word = \"Qualcosa\"):\n",
    "    say = \"Dì \" + word\n",
    "    return say\n",
    "\n",
    "frase = say_something()\n",
    "print(frase)"
   ]
  },
  {
   "cell_type": "code",
   "execution_count": 13,
   "id": "3f788a50",
   "metadata": {},
   "outputs": [
    {
     "name": "stdout",
     "output_type": "stream",
     "text": [
      "Lista della spesa di Riccardo\n",
      "1) caffè\n",
      "2) sigarette\n",
      "3) birra\n",
      "4) vino\n"
     ]
    }
   ],
   "source": [
    "# altro esempio (per mostrare la funzione enumerate())\n",
    "def print_shopping_list(lista, proprietario = \"Riccardo\"):\n",
    "    \n",
    "    print(f\"Lista della spesa di {proprietario}\")\n",
    "\n",
    "    for i, item in enumerate(lista): # la funzione enumerate() prende una lista (o un altro oggetto iterabile) e restituisce una sequenza di tuple, dove ogni tupla contiene due valori: l'indice dell'elemento e l'elemento stesso\n",
    "        print(f\"{i + 1}) {item}\")\n",
    "\n",
    "lista_della_spesa = [\"caffè\", \"sigarette\", \"birra\", \"vino\"]\n",
    "\n",
    "print_shopping_list(lista_della_spesa)"
   ]
  },
  {
   "cell_type": "code",
   "execution_count": null,
   "id": "597828a7",
   "metadata": {},
   "outputs": [],
   "source": []
  }
 ],
 "metadata": {
  "kernelspec": {
   "display_name": ".venv",
   "language": "python",
   "name": "python3"
  },
  "language_info": {
   "codemirror_mode": {
    "name": "ipython",
    "version": 3
   },
   "file_extension": ".py",
   "mimetype": "text/x-python",
   "name": "python",
   "nbconvert_exporter": "python",
   "pygments_lexer": "ipython3",
   "version": "3.12.9"
  }
 },
 "nbformat": 4,
 "nbformat_minor": 5
}
