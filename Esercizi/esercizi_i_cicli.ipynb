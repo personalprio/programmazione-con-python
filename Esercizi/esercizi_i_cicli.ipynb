{
 "cells": [
  {
   "cell_type": "markdown",
   "metadata": {},
   "source": [
    "# Esercizio 1 modifiche nel branch\n",
    "Leggi un numero intero *N* compreso tra 1 e 20 in input. Per tutti gli interi non negativi i < N stampa i^2"
   ]
  },
  {
   "cell_type": "code",
   "execution_count": null,
   "metadata": {},
   "outputs": [
    {
     "name": "stdout",
     "output_type": "stream",
     "text": [
      "0\n",
      "1\n",
      "4\n",
      "9\n",
      "16\n"
     ]
    }
   ],
   "source": [
    "#soluzione con while\n",
    "n = int(input(\"Inserisci un numero da 1 a 20: \"))\n",
    "\n",
    "i = 0\n",
    "\n",
    "while i < n :\n",
    "    print(i ** 2)\n",
    "    print(i ** 4)\n",
    "    i += 1"
   ]
  },
  {
   "cell_type": "code",
   "execution_count": 2,
   "metadata": {},
   "outputs": [
    {
     "name": "stdout",
     "output_type": "stream",
     "text": [
      "0\n",
      "1\n",
      "4\n",
      "9\n",
      "16\n"
     ]
    }
   ],
   "source": [
    "#soluzione con for\n",
    "n = int(input(\"Inserisci un numero da 1 a 20: \"))\n",
    "\n",
    "for i in range(n):\n",
    "    print(i ** 2)"
   ]
  },
  {
   "cell_type": "markdown",
   "metadata": {},
   "source": [
    "# Esercizio 2\n",
    "Ricevi in input una lista con i punteggi dei partecipanti alla Giornata dello Sport Universitaria, trova il punteggio del secondo classificato.\n",
    "<br> \n",
    "Esempio di input: <br>\n",
    "2 3 6 6 5 <br>\n",
    "Esempio di output: <br>\n",
    "5"
   ]
  },
  {
   "cell_type": "code",
   "execution_count": null,
   "metadata": {},
   "outputs": [
    {
     "name": "stdout",
     "output_type": "stream",
     "text": [
      "La lista inserita è {2, 3, 5, 7}\n",
      "Il punteggio del secondo classificato è: 5\n"
     ]
    }
   ],
   "source": [
    "punteggi = input(\"Inserisci la lista di punteggi: \")\n",
    "\n",
    "punteggi = punteggi.split(\" \") #prima splittiamo la stringa in una lista ad ogni spazio (il default è lo spazio, potevamo ometterlo)\n",
    "\n",
    "punteggi = set(map(int, punteggi)) #trasformiamo ogni elemento della lista in un int tramite la funziona map (mappo ogni elemento in int della variabile punteggi) - map in questo caso ritorna un generatore quindi ha bisogno del casting prima\n",
    "\n",
    "print(f\"La lista inserita è {punteggi}\")\n",
    "#castiamo in un set così eliminiamo già i duplicati - parimerito\n",
    "#cerchiamo dunque il secondo classificato\n",
    "#usando due cicli e una variabile di appoggio confrontiamo ogni numero con l'intera lista (i sarà il numero confrontato con tutti i valori)\n",
    "#se trovo un valore maggiore del mio confronto allora aumento la variabile di appoggio di 1\n",
    "#quando la variabile sarà = 1 significa che solamente un altro valore all'interno della lista sarà maggiore, quindi il mio confronto attuale è il secondo per grandezza\n",
    "for i in punteggi:\n",
    "    maggiore = 0\n",
    "    for j in punteggi:\n",
    "        if i < j:\n",
    "            maggiore += 1\n",
    "    if maggiore == 1:\n",
    "        break\n",
    "\n",
    "print(\"Il punteggio del secondo classificato è:\", i)\n",
    "    "
   ]
  },
  {
   "cell_type": "code",
   "execution_count": null,
   "metadata": {},
   "outputs": [
    {
     "name": "stdout",
     "output_type": "stream",
     "text": [
      "La lista inserita è [2, 3, 4, 6, 7, 8]\n"
     ]
    },
    {
     "data": {
      "text/plain": [
       "7"
      ]
     },
     "execution_count": 14,
     "metadata": {},
     "output_type": "execute_result"
    }
   ],
   "source": [
    "#una soluzione più veloce è di ordinare la lista\n",
    "punteggi = input(\"Inserisci la lista di punteggi: \")\n",
    "punteggi = punteggi.split()\n",
    "punteggi = set(map(int, punteggi)) # castiamo comunque in un set così da eliminare i duplicati\n",
    "punteggi = list(punteggi)\n",
    "print(f\"La lista inserita è {punteggi}\")\n",
    "#ordiniamo la lista con .sort\n",
    "punteggi.sort() # senza specificare nessun parametro sarà ordinata in ascending, altrimenti usare reverse = True\n",
    "punteggi[-2]"
   ]
  },
  {
   "cell_type": "code",
   "execution_count": 17,
   "metadata": {},
   "outputs": [
    {
     "data": {
      "text/plain": [
       "[3, 5, 2, 7, 8, 4]"
      ]
     },
     "execution_count": 17,
     "metadata": {},
     "output_type": "execute_result"
    }
   ],
   "source": [
    "#castando la lista inserita in un set per eliminare i duplicati perdiamo di conseguenza l'ordine originale essendo il set una serie di valori unici non ordinati\n",
    "#per ovviare a questo problema possiamo usare la seguente funzione\n",
    "punteggi = [3, 5, 2, 2, 3, 7, 8, 4]\n",
    "punteggi = dict.fromkeys(map(int, punteggi))\n",
    "punteggi = list(punteggi)\n",
    "punteggi"
   ]
  },
  {
   "cell_type": "markdown",
   "metadata": {},
   "source": [
    "# Esercizio 3\n",
    "Hai a disposizione un record di *N* studenti. Ogni record contiene il nome dello studente e il suo voto di Matematica, Fisica e Chimica. I voti possono essere numeri con la virgola. Un utente inserisce un intero *N* seguito da il nome e i voti di N studenti. Il programma deve salvare i record in un dizionario. Alla fine l'utente inserirà il nome di uno studente, il programma dovrà restituire l'output della media dei voti di tale studente arrotondata a due cifre dopo la virgola. <br>\n",
    "### Esempio di input\n",
    "3 <br>\n",
    "Riccardo 67 68 69 <br>\n",
    "Marta 70 98 63 <br>\n",
    "Jimmy 52 56 60 <br>\n",
    "Jimmy <br>\n",
    "### Esempio di output\n",
    "56.00"
   ]
  },
  {
   "cell_type": "code",
   "execution_count": null,
   "metadata": {},
   "outputs": [
    {
     "name": "stdout",
     "output_type": "stream",
     "text": [
      "Lo studente Jimmy ha una media di 56.00\n"
     ]
    }
   ],
   "source": [
    "# mia soluzione\n",
    "numero_studenti = int(input(\"Inserisci il numero di studenti: \"))\n",
    "dizionario_studenti = {}\n",
    "\n",
    "for i in range(numero_studenti):\n",
    "    studente = input(\"Inserisci il nome dello studente seguito dai voti di Matematica, Fisica e Chimica: \")\n",
    "    nome_studente, voti_studente = studente.split(\" \", maxsplit=1)\n",
    "    nome_studente = nome_studente.capitalize()\n",
    "    voti_studente = voti_studente.split()\n",
    "    voti_studente = list(map(float, voti_studente))\n",
    "    dizionario_studenti[nome_studente] = voti_studente\n",
    "    \n",
    "studente = input(\"Inserisci il nome dello studente di cui vuoi verificare la media dei suoi voti: \").capitalize()\n",
    "media_voti = dizionario_studenti[studente]\n",
    "media = 0\n",
    "\n",
    "for voto in media_voti:\n",
    "    media = media + voto\n",
    "media_voti = media / len(media_voti)\n",
    "\n",
    "print(f\"Lo studente {studente} ha una media di {media_voti:.2f}\")\n"
   ]
  },
  {
   "cell_type": "code",
   "execution_count": 23,
   "metadata": {},
   "outputs": [
    {
     "name": "stdout",
     "output_type": "stream",
     "text": [
      "Lo studente Jimmy ha una media di 56.00\n"
     ]
    }
   ],
   "source": [
    "# soluzione del corso con un ciclo in meno e l'utilizzo delle liste indicizzate\n",
    "numero_studenti = int(input(\"Inserisci il numero di studenti: \"))\n",
    "dizionario_studenti = {}\n",
    "for _ in range(numero_studenti):\n",
    "    record = input(\"Inserisci il nome dello studente seguito dai voti di Matematica, Fisica e Chimica: \")\n",
    "    record = record.split()\n",
    "    name = record[0].capitalize()\n",
    "    marks = list(map(float, record[1:]))\n",
    "    dizionario_studenti[name] = marks\n",
    "\n",
    "#calcolo della media\n",
    "studente = input(\"Inserisci il nome dello studente di cui vuoi verificare la media dei suoi voti: \").capitalize()\n",
    "media_voti = sum(dizionario_studenti[studente]) / len(dizionario_studenti[studente])\n",
    "\n",
    "print(f\"Lo studente {studente} ha una media di {media_voti:.2f}\")\n"
   ]
  },
  {
   "cell_type": "markdown",
   "metadata": {},
   "source": [
    "# Esercizio 4 Palindromi\n",
    "Leggi una stringa in input all'interno di un loop. Se la stringa è uguale a \"stop\" interrompi il programma, altrimenti verifica se la stringa è un palindromo; <br>\n",
    "in caso positivo stampa \"PAROLA è un palindromo\" inserendo la parola scritta dall'utente in input al posto di PAROLA, altrimenti stampa \"PAROLA non è un palindromo\""
   ]
  },
  {
   "cell_type": "code",
   "execution_count": 26,
   "metadata": {},
   "outputs": [
    {
     "name": "stdout",
     "output_type": "stream",
     "text": [
      "ciao non è un palindromo\n",
      "osso è un palindromo\n",
      "radar è un palindromo\n",
      "diocane non è un palindromo\n"
     ]
    }
   ],
   "source": [
    "while True:\n",
    "    parola = input(\"Inserisci una parola, altrimenti inserisci 'stop' per terminare il programma: \")\n",
    "    if parola == \"stop\":\n",
    "        break\n",
    "    else:\n",
    "        check_palindromo = parola[::-1]\n",
    "        if check_palindromo == parola:\n",
    "            print(f\"{parola} è un palindromo\")\n",
    "        else:\n",
    "            print(f\"{parola} non è un palindromo\")"
   ]
  }
 ],
 "metadata": {
  "kernelspec": {
   "display_name": ".venv",
   "language": "python",
   "name": "python3"
  },
  "language_info": {
   "codemirror_mode": {
    "name": "ipython",
    "version": 3
   },
   "file_extension": ".py",
   "mimetype": "text/x-python",
   "name": "python",
   "nbconvert_exporter": "python",
   "pygments_lexer": "ipython3",
   "version": "3.12.9"
  }
 },
 "nbformat": 4,
 "nbformat_minor": 2
}
