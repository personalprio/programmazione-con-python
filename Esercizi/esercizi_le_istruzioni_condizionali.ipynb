{
 "cells": [
  {
   "cell_type": "markdown",
   "metadata": {},
   "source": [
    "# IF - ELSE\n",
    "Inserisci un numero n in input: <br>\n",
    "* Se *n* è dispari stampa *Weird*\n",
    "* Se *n* è pari e contenuto all'interno del range che va da 2 a 5 stampa *Not Weird*\n",
    "* Se *n* è pari e incluso nel range che va da 6 a 20 stampa *Weird*\n",
    "* Se *n* è pari o maggiore di 20 stampa *Not Weird*\n"
   ]
  },
  {
   "cell_type": "code",
   "execution_count": 9,
   "metadata": {},
   "outputs": [
    {
     "name": "stdout",
     "output_type": "stream",
     "text": [
      "Not Weird\n"
     ]
    }
   ],
   "source": [
    "n = int(input(\"Inserisci un numero: \"))\n",
    "\n",
    "if n % 2 == 1:\n",
    "    print(\"Weird\")\n",
    "elif 2 <= n <= 5:\n",
    "    print(\"Not Weird\")\n",
    "elif 6 <= n <= 20:\n",
    "    print(\"Weird\")\n",
    "elif n >= 20:\n",
    "    print(\"Not Weird\")"
   ]
  },
  {
   "cell_type": "code",
   "execution_count": 14,
   "metadata": {},
   "outputs": [
    {
     "name": "stdout",
     "output_type": "stream",
     "text": [
      "Not Weird\n"
     ]
    }
   ],
   "source": [
    "#versione migliorata visto che abbiamo lo stesso tipo di output in diverse casistiche possiamo raggrupparle\n",
    "n = int(input(\"Inserisci un numero: \"))\n",
    "\n",
    "if n % 2 == 1 or 6 <= n <= 20:\n",
    "    print(\"Weird\")\n",
    "elif 2 <= n <= 5 or n >= 20:\n",
    "    print(\"Not Weird\")"
   ]
  }
 ],
 "metadata": {
  "kernelspec": {
   "display_name": ".venv",
   "language": "python",
   "name": "python3"
  },
  "language_info": {
   "codemirror_mode": {
    "name": "ipython",
    "version": 3
   },
   "file_extension": ".py",
   "mimetype": "text/x-python",
   "name": "python",
   "nbconvert_exporter": "python",
   "pygments_lexer": "ipython3",
   "version": "3.12.9"
  }
 },
 "nbformat": 4,
 "nbformat_minor": 2
}
