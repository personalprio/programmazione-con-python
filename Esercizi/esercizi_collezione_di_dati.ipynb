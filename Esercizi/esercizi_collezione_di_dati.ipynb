{
 "cells": [
  {
   "cell_type": "markdown",
   "metadata": {},
   "source": [
    "# 1. Pagelle scolastiche\n",
    "Creiamo una struttura dati in grado di contenere i record di diversi studenti. La struttura sarà composta da un dizionario, con chiave il nome dello studente e come valore una lista. <br>\n",
    "La lista deve contenere delle tuple e ogni tupla deve avere nella prima posizione il nome della materia, nella seconda il voto e nella terza le ore di assenza. <br>\n",
    "1. Popola la struttura dati con le informazioni che vedi nella tabella in fondo.\n",
    "2. Aggiungi alla struttura dati la pagella di un nuovo studente chiamato Albert Einstein, con 10 in tutte le materie e nessuna ora di assenza.\n",
    "3. Aggiungi Fisica a tutte le pagelle con le seguenti votazioni/assenze: <br>\n",
    "Giuseppe Gullo 9.5/0, Antonio Barbera 8/1, Emiliano Ruozzo 8/3, Albert Einstein 10/0.\n",
    "4. Stampa la tupla con le informazioni sulla materia Matematica per Giuseppe Gullo\n",
    "5. Stampa la tupla con le informazioni sulla materia Inglese per Emiliano Ruozzo\n",
    "6. Stampa solo il voto di Antonio Barbera in Geografia."
   ]
  },
  {
   "cell_type": "code",
   "execution_count": null,
   "metadata": {},
   "outputs": [],
   "source": [
    "# 1. Creo e popolo la struttura dati\n",
    "pagelle = {\n",
    "    \"Giuseppe Gullo\":[(\"Matematica\", 9, 0), (\"Italiano\", 7, 3), (\"Inglese\", 7.5, 4), (\"Storia\", 7.5, 4), (\"Geografia\", 5, 7)],\n",
    "    \"Antonio Barbera\":[(\"Matematica\", 8, 1), (\"Italiano\", 6, 1), (\"Inglese\", 9.5, 0), (\"Storia\", 8, 2), (\"Geografia\", 8, 1)],\n",
    "    \"Emiliano Ruozzo\":[(\"Matematica\", 7.5, 2), (\"Italiano\", 6, 2), (\"Inglese\", 4, 3), (\"Storia\", 8.5, 2), (\"Geografia\", 8, 2)],\n",
    "}"
   ]
  },
  {
   "cell_type": "code",
   "execution_count": 2,
   "metadata": {},
   "outputs": [],
   "source": [
    "# 2. Aggiungo Albert Einstein\n",
    "pagelle[\"Albert Einstein\"] = [(\"Matematica\", 10, 0), (\"Italiano\", 10, 0), (\"Inglese\", 10, 0), (\"Storia\", 10, 0), (\"Geografia\", 10, 0)]"
   ]
  },
  {
   "cell_type": "code",
   "execution_count": 3,
   "metadata": {},
   "outputs": [],
   "source": [
    "# 3. Aggiungo Fisica con i relativi valori a tutti gli studenti\n",
    "pagelle[\"Giuseppe Gullo\"].append((\"Fisica\", 9.5, 0))\n",
    "pagelle[\"Antonio Barbera\"].append((\"Fisica\", 8, 1))\n",
    "pagelle[\"Emiliano Ruozzo\"].append((\"Fisica\", 8, 3))\n",
    "pagelle[\"Albert Einstein\"].append((\"Fisica\", 10, 0))"
   ]
  },
  {
   "cell_type": "code",
   "execution_count": null,
   "metadata": {},
   "outputs": [
    {
     "data": {
      "text/plain": [
       "('Matematica', 9, 0)"
      ]
     },
     "execution_count": 4,
     "metadata": {},
     "output_type": "execute_result"
    }
   ],
   "source": [
    "# 4. Stampo le info di matematica per Giuseppe Gullo\n",
    "pagelle[\"Giuseppe Gullo\"][0]"
   ]
  },
  {
   "cell_type": "code",
   "execution_count": 5,
   "metadata": {},
   "outputs": [
    {
     "data": {
      "text/plain": [
       "('Inglese', 4, 3)"
      ]
     },
     "execution_count": 5,
     "metadata": {},
     "output_type": "execute_result"
    }
   ],
   "source": [
    "# 5. Stampo le info di inglese per Emiliano Ruozzo\n",
    "pagelle[\"Emiliano Ruozzo\"][2]"
   ]
  },
  {
   "cell_type": "code",
   "execution_count": 6,
   "metadata": {},
   "outputs": [
    {
     "data": {
      "text/plain": [
       "8"
      ]
     },
     "execution_count": 6,
     "metadata": {},
     "output_type": "execute_result"
    }
   ],
   "source": [
    "# 6. Stampo solo il voto di geografia di Antonio Barbera\n",
    "pagelle[\"Antonio Barbera\"][-2][1]"
   ]
  }
 ],
 "metadata": {
  "kernelspec": {
   "display_name": ".venv",
   "language": "python",
   "name": "python3"
  },
  "language_info": {
   "codemirror_mode": {
    "name": "ipython",
    "version": 3
   },
   "file_extension": ".py",
   "mimetype": "text/x-python",
   "name": "python",
   "nbconvert_exporter": "python",
   "pygments_lexer": "ipython3",
   "version": "3.12.9"
  }
 },
 "nbformat": 4,
 "nbformat_minor": 2
}
