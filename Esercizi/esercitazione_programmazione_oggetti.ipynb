{
 "cells": [
  {
   "cell_type": "markdown",
   "id": "ae15410e",
   "metadata": {},
   "source": [
    "# La Circonferenza "
   ]
  },
  {
   "cell_type": "markdown",
   "id": "9eb8972a",
   "metadata": {},
   "source": [
    "Definisci una classe per rappresentare una circonferenza che, prendendo in input il raggio, definisca dei metodi per il calcolo del diametro, circonferenza e area. Documenta i metodi usando le Docstring."
   ]
  },
  {
   "cell_type": "code",
   "execution_count": 24,
   "id": "21904453",
   "metadata": {},
   "outputs": [],
   "source": [
    "class Cerchio:\n",
    "    \n",
    "    \"\"\"Classe per definire un cerchio, dal raggio troviamo diametro, circonferenza e area\n",
    "    \"\"\"\n",
    "    \n",
    "    \n",
    "    \n",
    "    def __init__(self, raggio):\n",
    "        self.pi = 3.14\n",
    "        self.raggio = raggio\n",
    "        \n",
    "    def __str__(self):\n",
    "        return f\"Il cerchio di raggio {self.raggio} ha {self.diametro()} di Diametro, {self.circonferenza():.2f} di Circonferenza e {self.area():.2f} di Area\"\n",
    "    \n",
    "    @property\n",
    "    def raggio(self):\n",
    "        return self._raggio\n",
    "    \n",
    "    @raggio.setter\n",
    "    def raggio(self, raggio):\n",
    "        if raggio <= 0:\n",
    "            raise ValueError(\"Devi inserire un valore positivo\")\n",
    "        self._raggio = raggio\n",
    "    \n",
    "    def diametro(self):\n",
    "        \n",
    "        \"\"\"Calcolo del diametro\n",
    "\n",
    "        Returns:\n",
    "            _type_: float\n",
    "        \"\"\"\n",
    "        return self.raggio * 2    \n",
    "    \n",
    "    def circonferenza(self):\n",
    "        \n",
    "        \"\"\"Calcolo della circonferenza\n",
    "        \n",
    "        Returns:\n",
    "            _type_: float\n",
    "        \"\"\"\n",
    "        return 2 * self.pi * self.raggio\n",
    "\n",
    "    def area(self):\n",
    "          \n",
    "        \"\"\"Calcolo dell'area\n",
    "        \n",
    "        Returns:\n",
    "            _type_: float\n",
    "        \"\"\"\n",
    "        return self.raggio**2 * self.pi\n",
    "    \n",
    "    @classmethod\n",
    "    def get(cls):\n",
    "        raggio = float(input(\"Inserisci il raggio della circonferenza: \"))\n",
    "        return cls(raggio)"
   ]
  },
  {
   "cell_type": "code",
   "execution_count": 23,
   "id": "1b9d62b1",
   "metadata": {},
   "outputs": [
    {
     "name": "stdout",
     "output_type": "stream",
     "text": [
      "Il cerchio di raggio 5.0 ha 10.0 di Diametro, 31.40 di Circonferenza e 78.5 di Area\n"
     ]
    }
   ],
   "source": [
    "cerchio = Cerchio.get()\n",
    "print(cerchio)"
   ]
  },
  {
   "cell_type": "markdown",
   "id": "fc923e1e",
   "metadata": {},
   "source": [
    "# 2 Vettori"
   ]
  },
  {
   "cell_type": "markdown",
   "id": "0ee793eb",
   "metadata": {},
   "source": [
    "Crea una classe che rappresenti un vettore numerico. La classe accetta in input una lista di numeri che saranno i valori del vettore. La classe deve avere queste funzionalità: <br>\n",
    "1. Stampando un oggetto Vector il risultato sarà la lista dei suoi valori.\n",
    "2. Sommando due oggetti Vector il risultato sarà un nuovo oggetto Vector composto dalla somma dei valori dei due vettori alle posizioni corrispondenti (v[1,2,3] + v[2,4,6] = v[3,6,9])\n",
    "3. Sottraendo un'oggetto Vector ad un altro oggetto Vector il risultato sarà un nuovo oggetto Vector composto dalla differenza dei valori dei due vettori alle posizioni corrispondenti.\n",
    "4. Moltiplicando due oggetti il Vector il risultato dovrà essere il prodotto scalare dei due vettori, il prodotto scalare è definito come la somma dei singoli elementi corrispondenti dei due vettori (V[1,2,3] * V[2,4,6] = 28)\n",
    "5. Un confronto di uguaglianza tra i due vettori dovrà ritornare True se i due vettori hanno esattamente gli stessi elementi, altrimenti dovrà ritornare False.<br>\n",
    "Per i punti 2,3,4 e 5 i vettori dveono avere uguale dimensione, in caso di dimensioni differenti stampa \"I vettori hanno dimensioni differenti\" e ritorna None. <br>\n",
    "Inoltre la classe deve avere i seguenti metodi:\n",
    "1. sum() ritorna la somma di tutti gli elementi del vettore\n",
    "2. norm() ritorna la norma del vettore, cioè la radice quadrata del prodotto scalare tra il vettore e se stesso<br>\n",
    "Inoltre la classe deve supportare l'indexing "
   ]
  },
  {
   "cell_type": "code",
   "execution_count": null,
   "id": "563b933f",
   "metadata": {},
   "outputs": [],
   "source": [
    "from math import sqrt as sqrt\n",
    "\n",
    "class Vector:\n",
    "    \n",
    "    def __init__(self, vettore):\n",
    "        self._vettore = vettore\n",
    "        \n",
    "    def __str__(self):\n",
    "        return str([v for v in self._vettore])\n",
    "    \n",
    "    def __getitem__(self, i):\n",
    "        \"\"\"Indicizzazione del vettore\n",
    "        \"\"\"\n",
    "        return self._vettore[i]\n",
    "    \n",
    "    def __add__(self, other):\n",
    "        if self.is_equal(other):\n",
    "            somma = []\n",
    "            for v1, v2 in zip(self._vettore, other._vettore):\n",
    "                somma.append(v1 + v2)\n",
    "            return Vector(somma)\n",
    "        else:\n",
    "            return None\n",
    "    \n",
    "    def __sub__(self, other):\n",
    "        if self.is_equal(other):\n",
    "            sottrazione = []\n",
    "            for v1, v2 in zip(self._vettore, other._vettore):\n",
    "                sottrazione.append(v1 - v2)\n",
    "            return Vector(sottrazione)\n",
    "        else:\n",
    "            return None\n",
    "    \n",
    "    def __mul__(self, other):\n",
    "        prodotto = 0\n",
    "        \n",
    "        if self.is_equal(other):\n",
    "            for v1, v2 in zip(self._vettore, other._vettore):\n",
    "                prodotto += v1 * v2\n",
    "            return prodotto\n",
    "        else:\n",
    "            return None\n",
    "        \n",
    "    def __eq__(self, other):\n",
    "        if self.is_equal(other):\n",
    "            for v1, v2 in zip(self._vettore, other._vettore):\n",
    "                if v1 != v2:\n",
    "                    return False\n",
    "                else:\n",
    "                    return True\n",
    "        else:\n",
    "            return None\n",
    "        \n",
    "    def is_equal(self, other):\n",
    "        \"\"\"Controllo della lunghezza dei due vettori utile a tutti gli altri metodi\n",
    "        \"\"\"\n",
    "        if len(self._vettore) != len(other._vettore):\n",
    "            return False\n",
    "        return True\n",
    "    \n",
    "    @classmethod\n",
    "    def get(cls):\n",
    "        \"\"\"Inserimento del vettore, infiniti numero fino allo stop dell'utente\n",
    "        \"\"\"\n",
    "        v = []\n",
    "        i = 0\n",
    "        while True:\n",
    "            n = input(f\"Inserisci il {i+1}° numero o S per stop: \")\n",
    "            if n == \"S\":\n",
    "                break\n",
    "            else:\n",
    "                n = int(n)\n",
    "                v.append(n)\n",
    "            i += 1\n",
    "        return cls(v)\n",
    "    \n",
    "    def sum(self):\n",
    "        \"\"\"Somma di tutti i valori del vettore\n",
    "        \"\"\"\n",
    "        return sum(self._vettore)\n",
    "\n",
    "    def norm(self):\n",
    "        \"\"\"Norma del vettore\n",
    "        \"\"\"\n",
    "        tot = 0\n",
    "        for v in self._vettore:\n",
    "            tot = tot + v * v\n",
    "        tot = round(sqrt(tot), 2)\n",
    "        return tot\n",
    "    \n",
    "    "
   ]
  },
  {
   "cell_type": "code",
   "execution_count": 38,
   "id": "17970fc1",
   "metadata": {},
   "outputs": [
    {
     "name": "stdout",
     "output_type": "stream",
     "text": [
      "[1, 2, 3]\n"
     ]
    }
   ],
   "source": [
    "vettore = Vector.get()\n",
    "print(vettore)"
   ]
  },
  {
   "cell_type": "code",
   "execution_count": 58,
   "id": "7f5268d1",
   "metadata": {},
   "outputs": [],
   "source": [
    "vettore1 = Vector.get()\n",
    "vettore2 = Vector.get()"
   ]
  },
  {
   "cell_type": "code",
   "execution_count": 59,
   "id": "dcc713c1",
   "metadata": {},
   "outputs": [
    {
     "name": "stdout",
     "output_type": "stream",
     "text": [
      "[2, 4, 6]\n"
     ]
    }
   ],
   "source": [
    "print(vettore2)"
   ]
  },
  {
   "cell_type": "code",
   "execution_count": 62,
   "id": "c453af2e",
   "metadata": {},
   "outputs": [
    {
     "name": "stdout",
     "output_type": "stream",
     "text": [
      "La somma dei due vettori è: [3, 6, 9]\n"
     ]
    }
   ],
   "source": [
    "print(f\"La somma dei due vettori è: {vettore1 + vettore2}\")"
   ]
  },
  {
   "cell_type": "code",
   "execution_count": 63,
   "id": "f6b874d4",
   "metadata": {},
   "outputs": [
    {
     "name": "stdout",
     "output_type": "stream",
     "text": [
      "La Differenza tra i due vettori è: [-1, -2, -3]\n"
     ]
    }
   ],
   "source": [
    "print(f\"La Differenza tra i due vettori è: {vettore1 - vettore2}\")"
   ]
  },
  {
   "cell_type": "code",
   "execution_count": 64,
   "id": "e63b4d75",
   "metadata": {},
   "outputs": [
    {
     "name": "stdout",
     "output_type": "stream",
     "text": [
      "La moltiplicazione dei due vettori è: 28\n"
     ]
    }
   ],
   "source": [
    "print(f\"La moltiplicazione dei due vettori è: {vettore1 * vettore2}\")"
   ]
  },
  {
   "cell_type": "code",
   "execution_count": 65,
   "id": "30ba2f91",
   "metadata": {},
   "outputs": [
    {
     "name": "stdout",
     "output_type": "stream",
     "text": [
      "I vettori sono diversi\n"
     ]
    }
   ],
   "source": [
    "if vettore1 == vettore2:\n",
    "    print(\"I vettori sono identici\")\n",
    "else:\n",
    "    print(\"I vettori sono diversi\")"
   ]
  },
  {
   "cell_type": "code",
   "execution_count": 66,
   "id": "b03577ba",
   "metadata": {},
   "outputs": [
    {
     "data": {
      "text/plain": [
       "6"
      ]
     },
     "execution_count": 66,
     "metadata": {},
     "output_type": "execute_result"
    }
   ],
   "source": [
    "vettore1.sum()"
   ]
  },
  {
   "cell_type": "code",
   "execution_count": 67,
   "id": "c0c79fb2",
   "metadata": {},
   "outputs": [
    {
     "data": {
      "text/plain": [
       "12"
      ]
     },
     "execution_count": 67,
     "metadata": {},
     "output_type": "execute_result"
    }
   ],
   "source": [
    "vettore2.sum()"
   ]
  },
  {
   "cell_type": "code",
   "execution_count": 75,
   "id": "07e241d5",
   "metadata": {},
   "outputs": [
    {
     "data": {
      "text/plain": [
       "54.77"
      ]
     },
     "execution_count": 75,
     "metadata": {},
     "output_type": "execute_result"
    }
   ],
   "source": [
    "vettore3 = Vector.get()\n",
    "vettore3.norm()"
   ]
  },
  {
   "cell_type": "code",
   "execution_count": 76,
   "id": "6977c708",
   "metadata": {},
   "outputs": [
    {
     "name": "stdout",
     "output_type": "stream",
     "text": [
      "La Differenza tra i due vettori è: None\n"
     ]
    }
   ],
   "source": [
    "print(f\"La Differenza tra i due vettori è: {vettore1 - vettore3}\")"
   ]
  },
  {
   "cell_type": "code",
   "execution_count": 77,
   "id": "01aed52e",
   "metadata": {},
   "outputs": [
    {
     "data": {
      "text/plain": [
       "40"
      ]
     },
     "execution_count": 77,
     "metadata": {},
     "output_type": "execute_result"
    }
   ],
   "source": [
    "vettore3[3]"
   ]
  },
  {
   "cell_type": "code",
   "execution_count": null,
   "id": "bc97bc19",
   "metadata": {},
   "outputs": [],
   "source": []
  }
 ],
 "metadata": {
  "kernelspec": {
   "display_name": ".venv",
   "language": "python",
   "name": "python3"
  },
  "language_info": {
   "codemirror_mode": {
    "name": "ipython",
    "version": 3
   },
   "file_extension": ".py",
   "mimetype": "text/x-python",
   "name": "python",
   "nbconvert_exporter": "python",
   "pygments_lexer": "ipython3",
   "version": "3.12.9"
  }
 },
 "nbformat": 4,
 "nbformat_minor": 5
}
