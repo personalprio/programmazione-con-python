{
 "cells": [
  {
   "cell_type": "markdown",
   "id": "661b4e64",
   "metadata": {},
   "source": [
    "## 1. Area della circonferenza\n",
    "Definisci una funzione che, prendendo in input il raggio, restituisce l'area della circonferenza. (A = πr^2)"
   ]
  },
  {
   "cell_type": "code",
   "execution_count": 5,
   "id": "0d876862",
   "metadata": {},
   "outputs": [
    {
     "name": "stdout",
     "output_type": "stream",
     "text": [
      "L'area della circonferenza è: 94.985\n"
     ]
    }
   ],
   "source": [
    "def area_circonferenza(r):\n",
    "    pi = 3.14\n",
    "    return pi * (r ** 2)\n",
    "    \n",
    "raggio = float(input(\"Inserisci il raggio della circonferenza: \"))    \n",
    "print(f\"L'area della circonferenza è: {area_circonferenza(raggio)}\")"
   ]
  },
  {
   "cell_type": "markdown",
   "id": "4a490157",
   "metadata": {},
   "source": [
    "## Anni bisestili\n",
    "Ogni 4 anni aggiungiamo un giorno al mese più breve dell'anno (Febbraio), e viene dunque chiamato bisestile. I criteri utilizzati per definire se un anno è bisestile sono i seguenti:<br>\n",
    "* L'anno è divisibile per 4, allora è bisestile a meno che:<br>\n",
    "    * L'anno è divisibile per 100, allora non è bisestile a meno che:<br>\n",
    "        * L'anno è divisibile per 400<br>\n",
    "<br>\n",
    "Scrivi una funzione per verificare se un anno è bisestile."
   ]
  },
  {
   "cell_type": "code",
   "execution_count": 13,
   "id": "69d8c39d",
   "metadata": {},
   "outputs": [
    {
     "name": "stdout",
     "output_type": "stream",
     "text": [
      "L'anno 2024 è bisestile\n"
     ]
    }
   ],
   "source": [
    "def anno_bisestile (year):\n",
    "    if year % 400 == 0:\n",
    "        print(f\"L'anno {year} è bisestile\")\n",
    "    elif year % 4 == 0 and year % 100 != 0:\n",
    "        print(f\"L'anno {year} è bisestile\")\n",
    "    else:\n",
    "        print(f\"L'anno {year} non è bisestile\")\n",
    "\n",
    "anno = int(input(\"Inserisci un anno: \"))\n",
    "anno_bisestile(anno)\n",
    "        \n",
    "    "
   ]
  },
  {
   "cell_type": "markdown",
   "id": "ac709f25",
   "metadata": {},
   "source": [
    "## Anagrammi\n",
    "Definisci una funzione che, prendendo in input due parole, verifica se le due parole sono anagrammi.<br>\n",
    "Due parole sono anagrammi quando composte dalle stesse lettere (strani/nastri - carino/canori, senatori/estranio)"
   ]
  },
  {
   "cell_type": "code",
   "execution_count": 17,
   "id": "de417906",
   "metadata": {},
   "outputs": [
    {
     "name": "stdout",
     "output_type": "stream",
     "text": [
      "La parola carino è anagramma di canori\n"
     ]
    }
   ],
   "source": [
    "def anagramma(parola1, parola2):\n",
    "    counter = 0\n",
    "    if len(parola1) == len(parola2):\n",
    "        for i in parola1:\n",
    "            for j in parola2:\n",
    "                if i == j:\n",
    "                    counter += 1\n",
    "        if counter == len(parola1):\n",
    "            print(f\"La parola {parola1} è anagramma di {parola2}\")\n",
    "    else:\n",
    "        print(\"Le due parole non sono anagrammi\")\n",
    "        \n",
    "prima = input(\"Inserisci la prima parola: \")\n",
    "seconda = input(\"Inserisci la seconda parola: \")\n",
    "\n",
    "anagramma(prima, seconda)\n",
    "                "
   ]
  },
  {
   "cell_type": "code",
   "execution_count": 21,
   "id": "6805badb",
   "metadata": {},
   "outputs": [
    {
     "name": "stdout",
     "output_type": "stream",
     "text": [
      "bella non è anagramma di palla\n"
     ]
    }
   ],
   "source": [
    "#soluzione del corso con un ciclo in meno\n",
    "def are_anagrams(word1, word2):\n",
    "    if len(word1) != len(word2):\n",
    "        return False\n",
    "    \n",
    "    word1_list = list(word1)\n",
    "\n",
    "    for l in word2:\n",
    "        if l in word1_list:\n",
    "            word1_list.remove(l)\n",
    "        else:\n",
    "            return False\n",
    "    \n",
    "    return True\n",
    "\n",
    "word1 = input(\"Inserisci la prima parola: \")\n",
    "word2 = input(\"Inserisci la seconda parola: \")\n",
    "\n",
    "anagrams = are_anagrams(word1, word2)\n",
    "\n",
    "if anagrams:\n",
    "    print(f\"{word1} è anagramma di {word2}\")\n",
    "else:\n",
    "    print(f\"{word1} non è anagramma di {word2}\")"
   ]
  },
  {
   "cell_type": "markdown",
   "id": "8f157aff",
   "metadata": {},
   "source": [
    "## Validazione di indirizzi email\n",
    "Realizziamo una funzione che, prendendo in input una lista di indirizzi email, ritorni una nuova lista degli indirizzi email validi ordinati alfabeticamente.<br>\n",
    "Un indirizzo email è valido se:\n",
    "* Ha il formato nomeutente@dominio.estensione\n",
    "* Il nome utente contiente soltanto lettere, numeri trattini (-) e trattini bassi (_)\n",
    "* Il dominio contiene soltanto lettere e numeri.\n",
    "* La lunghezza massima dell'estensione è 3 caratteri"
   ]
  },
  {
   "cell_type": "code",
   "execution_count": 31,
   "id": "13c5904f",
   "metadata": {},
   "outputs": [
    {
     "name": "stdout",
     "output_type": "stream",
     "text": [
      "La lista di email valide è: ['prova@alice.it', 'ciao@hotmail.it', 'hello@gmail.com']\n",
      "La lista ordinata è: ['ciao@hotmail.it', 'hello@gmail.com', 'prova@alice.it']\n"
     ]
    }
   ],
   "source": [
    "def sort_email(email_list):\n",
    "    email_list.sort()\n",
    "    return email_list\n",
    "\n",
    "def check_email(email_address):\n",
    "        \n",
    "        user, domain = email_address.split(\"@\")\n",
    "        domain, extension = domain.split(\".\")\n",
    "        \n",
    "        if all(c.isalnum() or c in \"-_\" for c in user):\n",
    "            if all(c.isalnum() for c in domain):\n",
    "                if 1 <= len(extension) <= 3:\n",
    "                    return True\n",
    "                else:\n",
    "                    return False\n",
    "\n",
    "i = 0\n",
    "lista_email = []\n",
    "\n",
    "while i < 3:\n",
    "    email = input(\"Inserisci un indirizzo email: \")\n",
    "    email_valida = check_email(email)    \n",
    "\n",
    "    if email_valida:\n",
    "        lista_email.append(email)\n",
    "    \n",
    "    i += 1\n",
    "\n",
    "print(\"La lista di email valide è:\", lista_email)\n",
    "lista_alfabetica = sort_email(lista_email)\n",
    "print(\"La lista ordinata è:\", lista_alfabetica)\n",
    "\n",
    "\n",
    "\n",
    "        "
   ]
  },
  {
   "cell_type": "code",
   "execution_count": null,
   "id": "6d93c839",
   "metadata": {},
   "outputs": [],
   "source": []
  },
  {
   "cell_type": "code",
   "execution_count": null,
   "id": "e3bdc8c3",
   "metadata": {},
   "outputs": [],
   "source": []
  }
 ],
 "metadata": {
  "kernelspec": {
   "display_name": ".venv",
   "language": "python",
   "name": "python3"
  },
  "language_info": {
   "codemirror_mode": {
    "name": "ipython",
    "version": 3
   },
   "file_extension": ".py",
   "mimetype": "text/x-python",
   "name": "python",
   "nbconvert_exporter": "python",
   "pygments_lexer": "ipython3",
   "version": "3.12.9"
  }
 },
 "nbformat": 4,
 "nbformat_minor": 5
}
