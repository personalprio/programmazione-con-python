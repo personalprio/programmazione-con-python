{
 "cells": [
  {
   "cell_type": "markdown",
   "metadata": {},
   "source": [
    "# Operazioni aritmetiche\n",
    "1. Inserisci due interi come input e stampa:\n",
    "\n",
    "    1. La somma di due numeri\n",
    "    2. La differenza tra due numeri (primo - secondo)\n",
    "    3. Il prodotto tra i due numeri."
   ]
  },
  {
   "cell_type": "code",
   "execution_count": 1,
   "metadata": {},
   "outputs": [
    {
     "name": "stdout",
     "output_type": "stream",
     "text": [
      "La somma dei due numeri è: 5\n",
      "La differenza tra i due numeri è: 1\n",
      "Il prodotto dei due numeri è: 6\n"
     ]
    }
   ],
   "source": [
    "a = int(input(\"Inserisci il primo numero: \"))\n",
    "b = int(input(\"Inserisci il secondo numero: \"))\n",
    "\n",
    "print(\"La somma dei due numeri è:\", a + b)\n",
    "print(\"La differenza tra i due numeri è:\", a- b)\n",
    "print(\"Il prodotto dei due numeri è:\", a * b)"
   ]
  },
  {
   "cell_type": "markdown",
   "metadata": {},
   "source": [
    "# 2. Divisioni\n",
    "Leggi due interi a e b come input e stampa:\n",
    "\n",
    "1. Il risultato della divisione tra a e b come un numero con la virgola\n",
    "2. Il risultato della divisione tra a e b come un numero intero"
   ]
  },
  {
   "cell_type": "code",
   "execution_count": 6,
   "metadata": {},
   "outputs": [
    {
     "name": "stdout",
     "output_type": "stream",
     "text": [
      "La divisione con decimali è: 1.3333333333333333\n",
      "La divisione come numero intero è: 1\n",
      "La divisione come numero intero è: 1\n",
      "La divisione come numero intero è: 1\n"
     ]
    }
   ],
   "source": [
    "a = int(input(\"Inserisci il numeratore: \"))\n",
    "b = int(input(\"Inserisci il denominatore: \"))\n",
    "\n",
    "print(\"La divisione con decimali è:\", a / b)\n",
    "print(\"La divisione come numero intero è:\", int(a / b)) #questo non viene approssimato\n",
    "print(\"La divisione come numero intero è:\", a // b) #neanche questo\n",
    "print(\"La divisione come numero intero è:\", round(int(a / b), 0)) # questo viene approssimato ma bisogna comunque usare il casting per far tornare un intero "
   ]
  },
  {
   "cell_type": "markdown",
   "metadata": {},
   "source": [
    "# 3. Potenze e Modulo\n",
    "Leggi un float a e un intero b come input e stampa:\n",
    "\n",
    "1. a elevato b\n",
    "2. il modulo di a per b\n",
    "\n",
    "All'interno del print inserisci anche l'operazione che stai eseguendo"
   ]
  },
  {
   "cell_type": "code",
   "execution_count": 1,
   "metadata": {},
   "outputs": [
    {
     "name": "stdout",
     "output_type": "stream",
     "text": [
      "3.0 ** 2 = 9.0\n",
      "3.0 % 2 = 1.0\n"
     ]
    }
   ],
   "source": [
    "a = float(input(\"Inserisci un numero, anche decimale: \"))\n",
    "b = int(input(\"Inserisci un numero intero: \"))\n",
    "\n",
    "print(f\"{a} ** {b} = {a ** b}\")\n",
    "print(f\"{a} % {b} = {a % b}\")"
   ]
  },
  {
   "cell_type": "markdown",
   "metadata": {},
   "source": [
    "# 4. Swapping\n",
    "\n",
    "Lo swapping consiste nell'invertire il valore di due variabili.\n",
    "\n",
    "1. Prendi in input due valori e assegnali a due variabili a e b\n",
    "2. Stampa le variabili a schermo\n",
    "3. Assegna il valore di A a B e di B a A\n",
    "4. Stampa le variabili a schermo"
   ]
  },
  {
   "cell_type": "code",
   "execution_count": 3,
   "metadata": {},
   "outputs": [
    {
     "name": "stdout",
     "output_type": "stream",
     "text": [
      "Hai inserito A = 1 e B = 2\n",
      "Ora A = 2 e B = 1\n"
     ]
    }
   ],
   "source": [
    "a = int(input(\"Inserisci il primo numero: \"))\n",
    "b = int(input(\"Inserisci il secondo numero: \"))\n",
    "\n",
    "print(f\"Hai inserito A = {a} e B = {b}\")\n",
    "\n",
    "_ = a\n",
    "a = b\n",
    "b = _\n",
    "\n",
    "print(f\"Ora A = {a} e B = {b}\")"
   ]
  },
  {
   "cell_type": "markdown",
   "metadata": {},
   "source": [
    "### E' possibile in python fare lo swapping in maniera più diretta con la doppia assegnazione"
   ]
  },
  {
   "cell_type": "code",
   "execution_count": 4,
   "metadata": {},
   "outputs": [
    {
     "name": "stdout",
     "output_type": "stream",
     "text": [
      "Hai inserito A = 1 e B = 2\n",
      "Ora A = 2 e B = 1\n"
     ]
    }
   ],
   "source": [
    "a = int(input(\"Inserisci il primo numero: \"))\n",
    "b = int(input(\"Inserisci il secondo numero: \"))\n",
    "\n",
    "print(f\"Hai inserito A = {a} e B = {b}\")\n",
    "\n",
    "a, b = b, a\n",
    "\n",
    "print(f\"Ora A = {a} e B = {b}\")"
   ]
  },
  {
   "cell_type": "markdown",
   "metadata": {},
   "source": [
    "# 5. Casting e Formattazione\n",
    "\n",
    "#### Scriviamo un programma che richieda i tuoi dati e li stampi su schermo, i dati che il programma deve richiedere sono:\n",
    "\n",
    "1. Nome e Cognome\n",
    "2. Anno di nascita\n",
    "3. Luogo di nascita\n",
    "4. Altezza (in metri)\n",
    "5. Peso (in Kg)\n",
    "\n",
    "#### Infine il programma dovrà stampare tutte queste informazioni, con altezza e peso arrotondate a 2 cifre decimali dopo la virgola, insieme all'età della persona.\n",
    "\n",
    "### ESEMPIO DI INPUT\n",
    "\n",
    "* Nome: Giuseppe Gullio\n",
    "* Anno di nascita: 1991\n",
    "* Luogo di nascita: Taormina\n",
    "* Altezza (M): 1.75\n",
    "* Peso (Kg): 71.5\n",
    "\n",
    "### ESEMPIO DI OUTPUT\n",
    "\n",
    "\"Giuseppe Gullo, 34 anni, nato a Taormina nel 1938, altezza: 1.75 m, peso: 71.50 Kg\"\n",
    "\n",
    "### SUGGERIMENTI\n",
    "\n",
    "1. La funzione input ritorna sempre una stringa, quindi se vogliamo dei numeri dobbiamo usare il casting.\n",
    "2. Possiamo arrotondare una cifra usando l'operatore di formattazione %.Nf, dove al posto di N dobbiamo inserire il numero di cifre dopo la virgola.\n",
    "3. Se invece utilizzi il metodo **format**, puoi arrotondare una cifra usando come placeholder {my_var:.{digits}f} dove my_var è il placeholder della tua variabile e digits è il placeholder per il numero di cifre dopo la virgola."
   ]
  },
  {
   "cell_type": "code",
   "execution_count": 1,
   "metadata": {},
   "outputs": [
    {
     "name": "stdout",
     "output_type": "stream",
     "text": [
      "Riccardo Priotto, 32, nato a Ferrara nel 1993, altezza: 1.80 m, peso: 72.50 Kg\n"
     ]
    }
   ],
   "source": [
    "nome, cognome = input(\"Inserisci il tuo nome e cognome: \").title().split(\" \")   # title mette la prima lettere maiuscola a ogni parola digitata e split divide la stringa quando incontra uno spazio in questo caso\n",
    "anno_nascita = int(input(\"Inserisci il tuo anno di nascita: \"))\n",
    "luogo_nascita = input(\"Inserisci il luogo di nascita: \").capitalize() # capitalize a differenza di title mette solo la prima lettera della prima parola in maiuscolo\n",
    "altezza = float(input(\"Inserisci la tua altezza in metri: \"))\n",
    "peso = float(input(\"Inserisci il tuo peso: \"))\n",
    "\n",
    "print(f\"{nome} {cognome}, {2025 - anno_nascita}, nato a {luogo_nascita} nel {anno_nascita}, altezza: {altezza:.2f} m, peso: {peso:.2f} Kg\")"
   ]
  }
 ],
 "metadata": {
  "kernelspec": {
   "display_name": ".venv",
   "language": "python",
   "name": "python3"
  },
  "language_info": {
   "codemirror_mode": {
    "name": "ipython",
    "version": 3
   },
   "file_extension": ".py",
   "mimetype": "text/x-python",
   "name": "python",
   "nbconvert_exporter": "python",
   "pygments_lexer": "ipython3",
   "version": "3.12.9"
  }
 },
 "nbformat": 4,
 "nbformat_minor": 2
}
