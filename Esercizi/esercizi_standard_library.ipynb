{
 "cells": [
  {
   "cell_type": "markdown",
   "id": "a76074da",
   "metadata": {},
   "source": [
    "# 1. Poesie su un file"
   ]
  },
  {
   "cell_type": "markdown",
   "id": "0522c63b",
   "metadata": {},
   "source": [
    "Leggi tutte le poesie dalla dir *poesie* e salvale all'interno di un unico file chiamato *raccolta_poesie.txt* che si dovrà trovare all'interno di una nuova dir chiamata *raccolta*<br>\n",
    "Prima di una poesia inserisci un contatore (es: POESIA 1). Guarda il file raccolta_poesie_esempio.txt per avere un'idea dell'output che devi ottenere."
   ]
  },
  {
   "cell_type": "code",
   "execution_count": 3,
   "id": "f61b0c9f",
   "metadata": {},
   "outputs": [],
   "source": [
    "import sys\n",
    "import os"
   ]
  },
  {
   "cell_type": "code",
   "execution_count": 13,
   "id": "c3af621b",
   "metadata": {},
   "outputs": [
    {
     "name": "stdout",
     "output_type": "stream",
     "text": [
      "['felicità.txt', 'sei_la_mia_schiavitu_sei_la_mia_liberta.txt', 'se_durassimo_in_eterno.txt', 'il_più_bello_dei_mari.txt', 'bacio.txt', 'raccolta']\n"
     ]
    }
   ],
   "source": [
    "file_list = os.listdir(\"/Users/personalprio/Library/Mobile Documents/com~apple~CloudDocs/Repositories/ProfessionAI/Modulo_Python/11 - La Standard Library e PIP/poesie/\")\n",
    "print(file_list)"
   ]
  },
  {
   "cell_type": "code",
   "execution_count": 15,
   "id": "66d8819e",
   "metadata": {},
   "outputs": [],
   "source": [
    "for i, file in enumerate(file_list[:-1]):\n",
    "    with open(f\"/Users/personalprio/Library/Mobile Documents/com~apple~CloudDocs/Repositories/ProfessionAI/Modulo_Python/11 - La Standard Library e PIP/poesie/{file}\") as f:\n",
    "        \n",
    "        temp = f.read()\n",
    "        \n",
    "        raccolta_poesia_2 = open(\"/Users/personalprio/Library/Mobile Documents/com~apple~CloudDocs/Repositories/ProfessionAI/Modulo_Python/11 - La Standard Library e PIP/poesie/raccolta/raccolta_poesie_2.txt\", \"a\")\n",
    "        raccolta_poesia_2.write(f\"POESIA {i + 1}\\n\")\n",
    "        raccolta_poesia_2.write(temp + \"\\n\\n\")\n",
    "        raccolta_poesia_2.close()"
   ]
  },
  {
   "cell_type": "markdown",
   "id": "7ed1e486",
   "metadata": {},
   "source": []
  }
 ],
 "metadata": {
  "kernelspec": {
   "display_name": ".venv",
   "language": "python",
   "name": "python3"
  },
  "language_info": {
   "codemirror_mode": {
    "name": "ipython",
    "version": 3
   },
   "file_extension": ".py",
   "mimetype": "text/x-python",
   "name": "python",
   "nbconvert_exporter": "python",
   "pygments_lexer": "ipython3",
   "version": "3.12.9"
  }
 },
 "nbformat": 4,
 "nbformat_minor": 5
}
