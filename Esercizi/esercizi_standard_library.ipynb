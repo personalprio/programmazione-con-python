{
 "cells": [
  {
   "cell_type": "markdown",
   "id": "a76074da",
   "metadata": {},
   "source": [
    "# 1. Poesie su un file"
   ]
  },
  {
   "cell_type": "markdown",
   "id": "0522c63b",
   "metadata": {},
   "source": [
    "Leggi tutte le poesie dalla dir *poesie* e salvale all'interno di un unico file chiamato *raccolta_poesie.txt* che si dovrà trovare all'interno di una nuova dir chiamata *raccolta*<br>\n",
    "Prima di una poesia inserisci un contatore (es: POESIA 1). Guarda il file raccolta_poesie_esempio.txt per avere un'idea dell'output che devi ottenere."
   ]
  },
  {
   "cell_type": "code",
   "execution_count": 3,
   "id": "f61b0c9f",
   "metadata": {},
   "outputs": [],
   "source": [
    "import sys\n",
    "import os"
   ]
  },
  {
   "cell_type": "code",
   "execution_count": 13,
   "id": "c3af621b",
   "metadata": {},
   "outputs": [
    {
     "name": "stdout",
     "output_type": "stream",
     "text": [
      "['felicità.txt', 'sei_la_mia_schiavitu_sei_la_mia_liberta.txt', 'se_durassimo_in_eterno.txt', 'il_più_bello_dei_mari.txt', 'bacio.txt', 'raccolta']\n"
     ]
    }
   ],
   "source": [
    "file_list = os.listdir(\"/Users/personalprio/Library/Mobile Documents/com~apple~CloudDocs/Repositories/ProfessionAI/Modulo_Python/11 - La Standard Library e PIP/poesie/\")\n",
    "print(file_list)"
   ]
  },
  {
   "cell_type": "code",
   "execution_count": 15,
   "id": "66d8819e",
   "metadata": {},
   "outputs": [],
   "source": [
    "for i, file in enumerate(file_list[:-1]):\n",
    "    with open(f\"/Users/personalprio/Library/Mobile Documents/com~apple~CloudDocs/Repositories/ProfessionAI/Modulo_Python/11 - La Standard Library e PIP/poesie/{file}\") as f:\n",
    "        \n",
    "        temp = f.read()\n",
    "        \n",
    "        raccolta_poesia_2 = open(\"/Users/personalprio/Library/Mobile Documents/com~apple~CloudDocs/Repositories/ProfessionAI/Modulo_Python/11 - La Standard Library e PIP/poesie/raccolta/raccolta_poesie_2.txt\", \"a\")\n",
    "        raccolta_poesia_2.write(f\"POESIA {i + 1}\\n\")\n",
    "        raccolta_poesia_2.write(temp + \"\\n\\n\")\n",
    "        raccolta_poesia_2.close()"
   ]
  },
  {
   "cell_type": "markdown",
   "id": "7ed1e486",
   "metadata": {},
   "source": [
    "## Quanto manca al tuo compleanno?\n",
    "Inserisci in un input la data del tuo compleanno in formato giorno/mese (es 07/09 per il sette settembre).<br>\n",
    "Scrivi un programma in gradodi calcolare i giorni mancanti al tuo compleanno e stampa il risultato in output.\n",
    "### Suggerimenti\n",
    "* Puoi utilizzare gli operatori di confronto per confrontare le due date"
   ]
  },
  {
   "cell_type": "code",
   "execution_count": 6,
   "id": "2c5c6434",
   "metadata": {},
   "outputs": [
    {
     "name": "stdout",
     "output_type": "stream",
     "text": [
      "Il tuo compleanno è già passato\n"
     ]
    }
   ],
   "source": [
    "from datetime import datetime as dt\n",
    "\n",
    "today = dt.now()\n",
    "\n",
    "bd = input(\"Inserisci un data in formato dd/mm: \")\n",
    "bdate = dt.strptime(bd, \"%d/%m\")\n",
    "bdate = bdate.replace(year=today.year)\n",
    "\n",
    "if bdate < today:\n",
    "    print(\"Il tuo compleanno è già passato\")\n",
    "else:\n",
    "    diff = bdate - today\n",
    "    if diff.days == 0:\n",
    "        print(\"Oggi è il tuo compleanno, tanti auguri!!!\")\n",
    "        print(bdate,today)\n",
    "    else:\n",
    "        print(f\"Mancano {diff.days} al tuo compleanno\")\n"
   ]
  },
  {
   "cell_type": "markdown",
   "id": "8af119ee",
   "metadata": {},
   "source": [
    "## Equazioni per il Machine Learning"
   ]
  },
  {
   "cell_type": "code",
   "execution_count": 35,
   "id": "984f3883",
   "metadata": {},
   "outputs": [],
   "source": [
    "import math\n",
    "\n",
    "class Ml:\n",
    "    \n",
    "    def __init__(self, x, y=1):\n",
    "        self.x = x\n",
    "        self.y = y\n",
    "        \n",
    "    def __str__(self):\n",
    "        return f\"x = {self.x}, y = {self.y}\"\n",
    "    \n",
    "    def sigmoide(self):\n",
    "        return 1 / (1 + math.pow(math.e, -self.x))\n",
    "    \n",
    "    def relu(self):\n",
    "        return max(0, self.x)\n",
    "        \n",
    "    def tan_iper(self):\n",
    "        return (1 - math.pow(math.e, (-2 * self.x))) / (1 + math.pow(math.e, (-2 * self.x))) \n",
    "        \n",
    "        \n",
    "        \n",
    "    @property\n",
    "    def x(self):\n",
    "        return self._x\n",
    "    \n",
    "    @x.setter\n",
    "    def x(self, x):\n",
    "        try:\n",
    "            self._x = float(x)\n",
    "        except ValueError as e:\n",
    "            print(\"Non hai inserito un valore valido\")\n",
    "            Ml.get_x()\n",
    "            \n",
    "    @property\n",
    "    def y(self):\n",
    "        return self._y\n",
    "    \n",
    "    @y.setter\n",
    "    def y(self, y):    \n",
    "        try:\n",
    "            self._y = float(y)\n",
    "        except ValueError as e:\n",
    "            print(\"Non hai inserito un valore valido\")\n",
    "            Ml.get_xy()\n",
    "        \n",
    "    @classmethod\n",
    "    def get_x(cls):\n",
    "        num = input(\"Inserisci il valore di x: \")\n",
    "        return cls(num)\n",
    "    \n",
    "    @classmethod\n",
    "    def get_xy(cls):\n",
    "        num1 = input(\"Inserisci il valore di x: \")\n",
    "        num2 = input(\"Inserisci il valore di y: \")\n",
    "        return cls(num1, y=num2)"
   ]
  },
  {
   "cell_type": "code",
   "execution_count": 36,
   "id": "f51f7738",
   "metadata": {},
   "outputs": [
    {
     "name": "stdout",
     "output_type": "stream",
     "text": [
      "0.73\n",
      "1.0\n",
      "0.76\n",
      "x = 1.0, y = 1.0\n"
     ]
    }
   ],
   "source": [
    "singolo = Ml.get_x()\n",
    "print(round(singolo.sigmoide(), 2))\n",
    "print(singolo.relu())\n",
    "print(round(singolo.tan_iper(), 2))\n",
    "print(singolo)"
   ]
  },
  {
   "cell_type": "code",
   "execution_count": null,
   "id": "1c6a3e99",
   "metadata": {},
   "outputs": [],
   "source": []
  }
 ],
 "metadata": {
  "kernelspec": {
   "display_name": ".venv",
   "language": "python",
   "name": "python3"
  },
  "language_info": {
   "codemirror_mode": {
    "name": "ipython",
    "version": 3
   },
   "file_extension": ".py",
   "mimetype": "text/x-python",
   "name": "python",
   "nbconvert_exporter": "python",
   "pygments_lexer": "ipython3",
   "version": "3.12.9"
  }
 },
 "nbformat": 4,
 "nbformat_minor": 5
}
