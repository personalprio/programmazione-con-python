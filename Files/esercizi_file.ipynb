{
 "cells": [
  {
   "cell_type": "markdown",
   "id": "f36e876f",
   "metadata": {},
   "source": [
    "## 1. Filtra i proverbi\n",
    "Leggi il contenuto del file proverbi.txt e scrivi su un nuovo file chiamato proverbi_filtrati.txt solo i proverbi che iniziano per vocale o che sono più brevi di 25 caratteri."
   ]
  },
  {
   "cell_type": "code",
   "execution_count": 1,
   "id": "49592b28",
   "metadata": {},
   "outputs": [
    {
     "name": "stdout",
     "output_type": "stream",
     "text": [
      "['A buon intenditor, poche parole. \\n', 'A caval donato non si guarda in bocca. \\n', 'Anno nuovo, vita nuova. \\n', 'Buon sangue non mente. \\n', 'Chi la dura, la vince. \\n', 'Chiodo scaccia chiodo. \\n']\n"
     ]
    }
   ],
   "source": [
    "with open(\"Files/proverbi.txt\") as f:\n",
    "    file = f.readlines()\n",
    "\n",
    "for row in file:\n",
    "    if len(row) < 25 or row[0].upper() in [\"A\", \"E\", \"I\", \"O\", \"U\"]:\n",
    "        with open(\"Files/proverbi_filtrati.txt\", \"a\") as f:\n",
    "            f.write(row)\n",
    "    \n",
    "with open(\"Files/proverbi_filtrati.txt\") as f:\n",
    "    print(f.readlines())\n",
    "        "
   ]
  },
  {
   "cell_type": "markdown",
   "id": "c0ae9812",
   "metadata": {},
   "source": [
    "## 2. Analisi di magazzino\n",
    "Apri il file shirts.csv e calcola le seguenti statistiche su di esso:\n",
    "1. Numero totale di prodotti presenti.\n",
    "2. Valore totale del magazzino (la somma del prezzo  di tutti i prodotti).\n",
    "3. Prezzo medio dei prodotti.\n",
    "4. Numero di prodotti per ogni colore.\n",
    "5. Numero di prodotti per ogni taglia.<br>\n",
    "Salva le statistiche all'interno di un file json chiamato shirts_stats.json "
   ]
  },
  {
   "cell_type": "code",
   "execution_count": 5,
   "id": "dff78001",
   "metadata": {},
   "outputs": [
    {
     "ename": "KeyError",
     "evalue": "'nr_prodotti'",
     "output_type": "error",
     "traceback": [
      "\u001b[31m---------------------------------------------------------------------------\u001b[39m",
      "\u001b[31mKeyError\u001b[39m                                  Traceback (most recent call last)",
      "\u001b[36mCell\u001b[39m\u001b[36m \u001b[39m\u001b[32mIn[5]\u001b[39m\u001b[32m, line 12\u001b[39m\n\u001b[32m      8\u001b[39m reader = csv.DictReader(f)\n\u001b[32m     10\u001b[39m \u001b[38;5;28;01mfor\u001b[39;00m i, row \u001b[38;5;129;01min\u001b[39;00m \u001b[38;5;28menumerate\u001b[39m(reader):\n\u001b[32m---> \u001b[39m\u001b[32m12\u001b[39m     \u001b[43mstats\u001b[49m\u001b[43m[\u001b[49m\u001b[33;43m\"\u001b[39;49m\u001b[33;43mnr_prodotti\u001b[39;49m\u001b[33;43m\"\u001b[39;49m\u001b[43m]\u001b[49m += \u001b[32m1\u001b[39m\n\u001b[32m     13\u001b[39m     stats[\u001b[33m\"\u001b[39m\u001b[33mtot_prezzo\u001b[39m\u001b[33m\"\u001b[39m] += row[\u001b[33m\"\u001b[39m\u001b[33mprezzo\u001b[39m\u001b[33m\"\u001b[39m]\n\u001b[32m     14\u001b[39m     stats[\u001b[33m\"\u001b[39m\u001b[33mtot\u001b[39m\u001b[33m\"\u001b[39m + row[\u001b[33m\"\u001b[39m\u001b[33mcolore\u001b[39m\u001b[33m\"\u001b[39m]] += \u001b[32m1\u001b[39m\n",
      "\u001b[31mKeyError\u001b[39m: 'nr_prodotti'"
     ]
    }
   ],
   "source": [
    "import csv\n",
    "import json\n",
    "\n",
    "stats = {}\n",
    "\n",
    "with open(\"Files/shirts.csv\") as f:\n",
    "    \n",
    "    reader = csv.DictReader(f)\n",
    "    \n",
    "    for i, row in enumerate(reader):\n",
    "        \n",
    "        stats[\"nr_prodotti\"] += 1\n",
    "        stats[\"tot_prezzo\"] += row[\"prezzo\"]\n",
    "        stats[\"tot\" + row[\"colore\"]] += 1\n",
    "        stats[\"tot\" + row[\"taglia\"]] += 1\n",
    "        \n",
    "    stats[\"mediaprezzo\"] = stats[\"tot_prezzo\"] / stats[\"nr_prodotti\"]\n",
    "    \n",
    "with open(\"Files/shirts_stats.json\", \"w\") as f:\n",
    "    json.dump(stats, f, indent=4)\n",
    "        \n",
    "        "
   ]
  },
  {
   "cell_type": "code",
   "execution_count": 6,
   "id": "8abb0f27",
   "metadata": {},
   "outputs": [],
   "source": [
    "#nella mia versione il problema è che non avendo ancora inizializzato quelle nuove chiavi non posso usare il +=\n",
    "#ecco la versione corretta da claude\n",
    "import csv\n",
    "import json\n",
    "\n",
    "\n",
    "# Inizializzare il dizionario stats con valori predefiniti\n",
    "stats = {\n",
    "    \"nr_prodotti\": 0,\n",
    "    \"tot_prezzo\": 0,\n",
    "    \"colore\": {},\n",
    "    \"taglia\": {}\n",
    "    # Non possiamo inizializzare le chiavi per colori e taglie perché non sappiamo quali sono\n",
    "}\n",
    "\n",
    "with open(\"/Users/personalprio/Library/Mobile Documents/com~apple~CloudDocs/Repositories/ProfessionAI/Modulo_Python/Files/shirts.csv\") as f:\n",
    "    reader = csv.DictReader(f)\n",
    "    \n",
    "    for i, row in enumerate(reader):\n",
    "        # Incremento il contatore prodotti\n",
    "        stats[\"nr_prodotti\"] += 1\n",
    "        \n",
    "        # Converti il prezzo in float prima di sommarlo\n",
    "        prezzo = float(row[\"prezzo\"])\n",
    "        stats[\"tot_prezzo\"] += prezzo\n",
    "        \n",
    "        # Gestione colori - inizializza la chiave se non esiste\n",
    "        if row[\"colore\"] not in stats[\"colore\"]:\n",
    "            stats[\"colore\"][row[\"colore\"]] = 0\n",
    "        stats[\"colore\"][row[\"colore\"]] += 1\n",
    "        \n",
    "        # Gestione taglie - inizializza la chiave se non esiste\n",
    "        if row[\"taglia\"] not in stats[\"taglia\"]:\n",
    "            stats[\"taglia\"][row[\"taglia\"]] = 0\n",
    "        stats[\"taglia\"][row[\"taglia\"]] += 1\n",
    "    \n",
    "    # Calcola il prezzo medio\n",
    "    if stats[\"nr_prodotti\"] > 0:  # Previeni divisione per zero\n",
    "        stats[\"mediaprezzo\"] = stats[\"tot_prezzo\"] / stats[\"nr_prodotti\"]\n",
    "    else:\n",
    "        stats[\"mediaprezzo\"] = 0\n",
    "\n",
    "with open(\"/Users/personalprio/Library/Mobile Documents/com~apple~CloudDocs/Repositories/ProfessionAI/Modulo_Python/Files/shirts_stats_2.json\", \"w\") as f:\n",
    "    json.dump(stats, f, indent=4)"
   ]
  },
  {
   "cell_type": "code",
   "execution_count": null,
   "id": "16214a24",
   "metadata": {},
   "outputs": [],
   "source": []
  }
 ],
 "metadata": {
  "kernelspec": {
   "display_name": ".venv",
   "language": "python",
   "name": "python3"
  },
  "language_info": {
   "codemirror_mode": {
    "name": "ipython",
    "version": 3
   },
   "file_extension": ".py",
   "mimetype": "text/x-python",
   "name": "python",
   "nbconvert_exporter": "python",
   "pygments_lexer": "ipython3",
   "version": "3.12.9"
  }
 },
 "nbformat": 4,
 "nbformat_minor": 5
}
